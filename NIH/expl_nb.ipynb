{
 "cells": [
  {
   "cell_type": "markdown",
   "metadata": {},
   "source": [
    "# NIH data CNN notebook"
   ]
  },
  {
   "cell_type": "code",
   "execution_count": 9,
   "metadata": {},
   "outputs": [],
   "source": [
    "import pandas as pd\n",
    "import numpy as np\n",
    "from sklearn.model_selection import train_test_split\n",
    "from keras.utils import to_categorical\n",
    "import streamlit as st\n",
    "from keras import layers\n",
    "from keras import models\n",
    "import matplotlib.pyplot as plt\n",
    "import struct\n",
    "from array import array\n",
    "from os.path  import join\n",
    "import csv"
   ]
  },
  {
   "cell_type": "markdown",
   "metadata": {},
   "source": [
    "## Train/test split"
   ]
  },
  {
   "cell_type": "code",
   "execution_count": 2,
   "metadata": {},
   "outputs": [],
   "source": [
    "import CNN.preprocess as pp"
   ]
  },
  {
   "cell_type": "code",
   "execution_count": 3,
   "metadata": {},
   "outputs": [
    {
     "name": "stdout",
     "output_type": "stream",
     "text": [
      "Created test and training directories\n",
      "train_set: 4484 elements\n",
      "test_set: 1122 elements\n",
      "parsing csv\n"
     ]
    }
   ],
   "source": [
    "pp.train_test_split_images(root_dir: str, training_fraction: float)\n",
    "pp.train_test_split_labels(root_dir: str, train_set: List[int], test_set: List[int])"
   ]
  },
  {
   "cell_type": "markdown",
   "metadata": {},
   "source": [
    "# Emphysema detector Network\n",
    "Let's try a network to detect emphysema cxr's first, baby steps.\n",
    "\n",
    "We'll make another copy of the `test_nih` and `training_nih` directories and remove all the other conditions from the `labels.csv`"
   ]
  },
  {
   "cell_type": "code",
   "execution_count": 5,
   "metadata": {},
   "outputs": [],
   "source": [
    "pp.filter_emphysema_rows(join('data', 'sample_labels.csv'), join('data', 'emph_labels.csv'))\n",
    "pp.filter_emphysema_rows(join('data', 'test_nih', 'labels.csv'), join('data', 'test_nih', 'emph_labels.csv'))\n",
    "pp.filter_emphysema_rows(join('data', 'training_nih', 'labels.csv'), join('data', 'training_nih', 'emph_labels.csv'))"
   ]
  },
  {
   "cell_type": "markdown",
   "metadata": {},
   "source": [
    "## Data pre-processing"
   ]
  },
  {
   "cell_type": "code",
   "execution_count": 24,
   "metadata": {},
   "outputs": [],
   "source": [
    "import os\n",
    "import glob\n",
    "from PIL import Image\n",
    "import numpy as np\n",
    "from array import array\n",
    "\n",
    "\n",
    "# MNIST Data Loader Class\n",
    "class NIHDataloader(object):\n",
    "    def __init__(self, \n",
    "                training_images_filepath,\n",
    "                training_labels_filepath,\n",
    "                test_images_filepath, \n",
    "                test_labels_filepath):\n",
    "        self.training_images_filepath = training_images_filepath\n",
    "        self.training_labels_filepath = training_labels_filepath\n",
    "        self.test_images_filepath = test_images_filepath\n",
    "        self.test_labels_filepath = test_labels_filepath\n",
    "    \n",
    "\n",
    "    def read_labels(self, labels_filepath):        \n",
    "        labels = []\n",
    "        images = []\n",
    "        \n",
    "        with open(labels_filepath, 'r') as file:\n",
    "            reader = csv.reader(file)\n",
    "            labels = array(\"B\", [1 if row[1]==\"true\" else 0 for row in reader])   \n",
    "        \n",
    "        return labels\n",
    "\n",
    "    def read_images(self, images_filepath):        \n",
    "        labels = []\n",
    "        images = []\n",
    "                        \n",
    "        # Get the list of image file paths in the directory\n",
    "        image_paths = glob.glob(os.path.join(images_filepath, \"*.png\"))\n",
    "\n",
    "        # Iterate over each image path\n",
    "        for image_path in image_paths:\n",
    "            image = Image.open(image_path)\n",
    "            resized_image = image.resize((512, 512))\n",
    "            grayscale_image = resized_image.convert(\"L\")\n",
    "            # array = np.array(grayscale_image).astype(float)\n",
    "            array = np.array(grayscale_image).astype(np.float16)\n",
    "\n",
    "            images.append(array)\n",
    "\n",
    "        return images\n",
    "        \n",
    "            \n",
    "    def load_data(self):\n",
    "        x_train = self.read_images(self.training_images_filepath)\n",
    "        y_train = self.read_labels(self.training_labels_filepath)\n",
    "        x_test = self.read_images(self.training_images_filepath)\n",
    "        y_test = self.read_labels(self.training_labels_filepath)\n",
    "\n",
    "          # Convert data to NumPy arrays\n",
    "        x_train = np.array(x_train)\n",
    "        y_train = np.array(y_train)\n",
    "        x_test = np.array(x_test)\n",
    "        y_test = np.array(y_test)\n",
    "        \n",
    "        return (x_train, y_train),(x_test, y_test)        "
   ]
  },
  {
   "cell_type": "markdown",
   "metadata": {},
   "source": [
    "## Testing data ingestion methods\n",
    "Let's decide which of our labels we want to train for first"
   ]
  },
  {
   "cell_type": "code",
   "execution_count": 69,
   "metadata": {},
   "outputs": [],
   "source": [
    "# Set file paths based on added MNIST Datasets``\n",
    "input_path = 'data'\n",
    "training_images_filepath = join(input_path, join('training_nih', 'images'))\n",
    "training_labels_filepath = join(input_path, join('training_nih', 'emph_labels.csv'))\n",
    "test_images_filepath = join(input_path, join('test_nih', 'images'))\n",
    "test_labels_filepath = join(input_path, join('test_nih', 'emph_labels.csv'))\n",
    "\n",
    "# Load MINST dataset\n",
    "nih_dataloader = NIHDataloader(training_images_filepath, training_labels_filepath, test_images_filepath, test_labels_filepath)"
   ]
  },
  {
   "cell_type": "code",
   "execution_count": null,
   "metadata": {},
   "outputs": [],
   "source": [
    "images = nih_dataloader.read_images(training_images_filepath)"
   ]
  },
  {
   "cell_type": "code",
   "execution_count": 58,
   "metadata": {},
   "outputs": [],
   "source": [
    "labels = nih_dataloader.read_labels(training_labels_filepath)"
   ]
  },
  {
   "cell_type": "code",
   "execution_count": 62,
   "metadata": {},
   "outputs": [
    {
     "name": "stdout",
     "output_type": "stream",
     "text": [
      "images[0]: [[ 2.  2.  2. ...  1.  1.  1.]\n",
      " [ 3.  5.  4. ...  4.  2.  1.]\n",
      " [ 2.  5.  5. ...  5.  2.  1.]\n",
      " ...\n",
      " [ 2.  3.  3. ... 63. 74. 28.]\n",
      " [ 2.  3.  3. ... 58. 74. 30.]\n",
      " [ 1.  2.  2. ... 27. 36. 15.]]\n",
      "labels[0]: 1\n"
     ]
    }
   ],
   "source": [
    "print(f'images[0]: {images[1]}')\n",
    "print(f'labels[0]: {labels[1]}')"
   ]
  },
  {
   "cell_type": "code",
   "execution_count": 63,
   "metadata": {},
   "outputs": [
    {
     "name": "stdout",
     "output_type": "stream",
     "text": [
      "type(labels): <class 'array.array'>\n",
      "type(labels[1]): <class 'int'>\n",
      "labels[1]: 1\n",
      "len(labels): 4484\n"
     ]
    }
   ],
   "source": [
    "print(f'type(labels): {type(labels)}')\n",
    "print(f'type(labels[1]): {type(labels[1])}')\n",
    "print(f'labels[1]: {labels[1]}')\n",
    "print(f'len(labels): {len(labels)}')"
   ]
  },
  {
   "cell_type": "markdown",
   "metadata": {},
   "source": [
    "## Building CNN model\n",
    "Helper functions to manage model building, training and training analysis"
   ]
  },
  {
   "cell_type": "code",
   "execution_count": 54,
   "metadata": {},
   "outputs": [],
   "source": [
    "from keras.optimizers import RMSprop\n",
    "from sklearn.metrics import precision_score, recall_score, f1_score\n",
    "\n",
    "\n",
    "def compile_model(learning_rate: float):\n",
    "    # Setting up the convolution neural network with convnet and maxpooling layer\n",
    "    model = models.Sequential()\n",
    "    model.add(layers.Conv2D(32, (3, 3), activation='relu', input_shape=(512, 512, 1)))\n",
    "    model.add(layers.MaxPooling2D((2, 2)))\n",
    "    model.add(layers.Conv2D(64, (3, 3), activation='relu'))\n",
    "    model.add(layers.MaxPooling2D((2, 2)))\n",
    "    model.add(layers.Conv2D(64, (3, 3), activation='relu'))\n",
    "\n",
    "    # Model Summary\n",
    "    print(f'model.summary(): {model.summary()}')\n",
    "\n",
    "    # Adding the fully connected layers to CNN\n",
    "    model.add(layers.Flatten())\n",
    "    model.add(layers.Dense(64, activation='relu'))\n",
    "    model.add(layers.Dense(2, activation='softmax'))\n",
    "\n",
    "    # Printing model summary\n",
    "    print(f'model.summary(): {model.summary()}')\n",
    "\n",
    "    # Create the optimizer with a new learning rate\n",
    "    optimizer = RMSprop(learning_rate=learning_rate)\n",
    "\n",
    "    # Configuring the network with the custom optimizer\n",
    "    model.compile(optimizer=optimizer,\n",
    "                loss='binary_crossentropy',\n",
    "                metrics=['accuracy'])\n",
    "    # # Configuring the network\n",
    "    # model.compile(optimizer='rmsprop(lr=0.0025)',\n",
    "    #             loss='binary_crossentropy',\n",
    "    #             metrics=['accuracy'])\n",
    "    \n",
    "    return model\n",
    "\n",
    "\n",
    "def train_model(X_train, Y_train, X_test, Y_test, model, epochs, batch_size):\n",
    "    history = model.fit(X_train, Y_train, epochs=epochs, batch_size=batch_size)\n",
    "\n",
    "    # Predict on test set\n",
    "    y_pred = model.predict(X_test)\n",
    "    y_pred = (y_pred > 0.5).astype(int)\n",
    "\n",
    "    # Calculate precision, recall, and F1 score\n",
    "    precision = precision_score(Y_test, y_pred)\n",
    "    recall = recall_score(Y_test, y_pred)\n",
    "    f1 = f1_score(Y_test, y_pred)\n",
    "\n",
    "    return history, precision, recall, f1\n"
   ]
  },
  {
   "cell_type": "markdown",
   "metadata": {},
   "source": [
    "## Keras metrics callback "
   ]
  },
  {
   "cell_type": "code",
   "execution_count": 1,
   "metadata": {},
   "outputs": [],
   "source": [
    "from tensorflow.keras.callbacks import Callback\n",
    "\n",
    "class MetricsCallback(Callback):\n",
    "    def __init__(self, x_test, y_test):\n",
    "        self.x_test = x_test\n",
    "        self.y_test = y_test\n",
    "\n",
    "    def on_train_begin(self, logs=None):\n",
    "        print(\"Training started...\")\n",
    "\n",
    "    def on_epoch_end(self, epoch, logs=None):\n",
    "        # Predict on test set\n",
    "        y_pred = self.model.predict(self.x_test)\n",
    "        y_pred = (y_pred > 0.5).astype(int)\n",
    "\n",
    "        # Calculate precision, recall, and F1 score\n",
    "        precision = precision_score(self.y_test, y_pred)\n",
    "        recall = recall_score(self.y_test, y_pred)\n",
    "        f1 = f1_score(self.y_test, y_pred)\n",
    "\n",
    "        # Print the metrics\n",
    "        print(f\"Epoch {epoch+1}/{self.params['epochs']}\")\n",
    "        print(f\"loss: {logs['loss']}, accuracy: {logs['accuracy']}, precision: {precision}, recall: {recall}, f1: {f1}\")"
   ]
  },
  {
   "cell_type": "code",
   "execution_count": 69,
   "metadata": {},
   "outputs": [
    {
     "ename": "MemoryError",
     "evalue": "Unable to allocate 2.19 GiB for an array with shape (4484, 512, 512) and data type float16",
     "output_type": "error",
     "traceback": [
      "\u001b[1;31m---------------------------------------------------------------------------\u001b[0m",
      "\u001b[1;31mMemoryError\u001b[0m                               Traceback (most recent call last)",
      "Cell \u001b[1;32mIn[69], line 4\u001b[0m\n\u001b[0;32m      2\u001b[0m batch_size \u001b[39m=\u001b[39m \u001b[39m16\u001b[39m\n\u001b[0;32m      3\u001b[0m metrics_callback \u001b[39m=\u001b[39m MetricsCallback(x_test, y_test)\n\u001b[1;32m----> 4\u001b[0m history \u001b[39m=\u001b[39m model\u001b[39m.\u001b[39;49mfit(x_train, y_train, epochs\u001b[39m=\u001b[39;49mepochs, batch_size\u001b[39m=\u001b[39;49mbatch_size, callbacks\u001b[39m=\u001b[39;49m[metrics_callback])\n\u001b[0;32m      6\u001b[0m \u001b[39m# history, precision, recall, f1 = train_model(x_train, y_train, x_test, y_test, model, 32, 32)\u001b[39;00m\n\u001b[0;32m      7\u001b[0m \n\u001b[0;32m      8\u001b[0m \u001b[39m# print('train model')\u001b[39;00m\n",
      "File \u001b[1;32mc:\\Python311\\Lib\\site-packages\\keras\\src\\utils\\traceback_utils.py:70\u001b[0m, in \u001b[0;36mfilter_traceback.<locals>.error_handler\u001b[1;34m(*args, **kwargs)\u001b[0m\n\u001b[0;32m     67\u001b[0m     filtered_tb \u001b[39m=\u001b[39m _process_traceback_frames(e\u001b[39m.\u001b[39m__traceback__)\n\u001b[0;32m     68\u001b[0m     \u001b[39m# To get the full stack trace, call:\u001b[39;00m\n\u001b[0;32m     69\u001b[0m     \u001b[39m# `tf.debugging.disable_traceback_filtering()`\u001b[39;00m\n\u001b[1;32m---> 70\u001b[0m     \u001b[39mraise\u001b[39;00m e\u001b[39m.\u001b[39mwith_traceback(filtered_tb) \u001b[39mfrom\u001b[39;00m \u001b[39mNone\u001b[39m\n\u001b[0;32m     71\u001b[0m \u001b[39mfinally\u001b[39;00m:\n\u001b[0;32m     72\u001b[0m     \u001b[39mdel\u001b[39;00m filtered_tb\n",
      "File \u001b[1;32mc:\\Python311\\Lib\\site-packages\\tensorflow\\python\\framework\\constant_op.py:86\u001b[0m, in \u001b[0;36mconvert_to_eager_tensor\u001b[1;34m(value, ctx, dtype)\u001b[0m\n\u001b[0;32m     66\u001b[0m \u001b[39m\u001b[39m\u001b[39m\"\"\"Converts the given `value` to an `EagerTensor`.\u001b[39;00m\n\u001b[0;32m     67\u001b[0m \n\u001b[0;32m     68\u001b[0m \u001b[39mNote that this function could return cached copies of created constants for\u001b[39;00m\n\u001b[1;32m   (...)\u001b[0m\n\u001b[0;32m     80\u001b[0m \u001b[39m  TypeError: if `dtype` is not compatible with the type of t.\u001b[39;00m\n\u001b[0;32m     81\u001b[0m \u001b[39m\"\"\"\u001b[39;00m\n\u001b[0;32m     82\u001b[0m \u001b[39mif\u001b[39;00m \u001b[39misinstance\u001b[39m(value, np\u001b[39m.\u001b[39mndarray):\n\u001b[0;32m     83\u001b[0m   \u001b[39m# Make a copy explicitly because the EagerTensor might share the underlying\u001b[39;00m\n\u001b[0;32m     84\u001b[0m   \u001b[39m# memory with the input array. Without this copy, users will be able to\u001b[39;00m\n\u001b[0;32m     85\u001b[0m   \u001b[39m# modify the EagerTensor after its creation by changing the input array.\u001b[39;00m\n\u001b[1;32m---> 86\u001b[0m   value \u001b[39m=\u001b[39m value\u001b[39m.\u001b[39mcopy()\n\u001b[0;32m     87\u001b[0m \u001b[39mif\u001b[39;00m \u001b[39misinstance\u001b[39m(value, ops\u001b[39m.\u001b[39mEagerTensor):\n\u001b[0;32m     88\u001b[0m   \u001b[39mif\u001b[39;00m dtype \u001b[39mis\u001b[39;00m \u001b[39mnot\u001b[39;00m \u001b[39mNone\u001b[39;00m \u001b[39mand\u001b[39;00m value\u001b[39m.\u001b[39mdtype \u001b[39m!=\u001b[39m dtype:\n",
      "\u001b[1;31mMemoryError\u001b[0m: Unable to allocate 2.19 GiB for an array with shape (4484, 512, 512) and data type float16"
     ]
    }
   ],
   "source": [
    "epochs = 15\n",
    "batch_size = 32\n",
    "metrics_callback = MetricsCallback(x_test, y_test)\n",
    "history = model.fit(x_train, y_train, epochs=epochs, batch_size=batch_size, callbacks=[metrics_callback])\n",
    "\n",
    "# history, precision, recall, f1 = train_model(x_train, y_train, x_test, y_test, model, 32, 32)\n",
    "\n",
    "# print('train model')"
   ]
  },
  {
   "cell_type": "markdown",
   "metadata": {},
   "source": [
    "## Data Augmentation\n",
    "We're getting serious overfitting in the model above, lets take the minority category  in the training dataset and apply rotations, and mirroring. We'll exclude scaling and cropping for now since the images are all pretty tight on the torso.\n",
    "\n",
    "Here's the data ingestion methods"
   ]
  },
  {
   "cell_type": "code",
   "execution_count": 41,
   "metadata": {},
   "outputs": [],
   "source": [
    "import os\n",
    "import glob\n",
    "from PIL import Image\n",
    "import numpy as np\n",
    "from array import array\n",
    "\n",
    "\n",
    "# MNIST Data Loader Class\n",
    "class NIHDataloader(object):\n",
    "    def __init__(self, \n",
    "                training_images_filepath,\n",
    "                training_labels_filepath,\n",
    "                test_images_filepath, \n",
    "                test_labels_filepath):\n",
    "        self.training_images_filepath = training_images_filepath\n",
    "        self.training_labels_filepath = training_labels_filepath\n",
    "        self.test_images_filepath = test_images_filepath\n",
    "        self.test_labels_filepath = test_labels_filepath\n",
    "    \n",
    "\n",
    "    def read_labels(self, labels_filepath):        \n",
    "        labels = []\n",
    "        images = []\n",
    "        \n",
    "        with open(labels_filepath, 'r') as file:\n",
    "            reader = csv.reader(file)\n",
    "            labels = array(\"B\", [1 if row[1]==\"true\" else 0 for row in reader])   \n",
    "        \n",
    "        return labels\n",
    "\n",
    "    def read_images(self, images_filepath):        \n",
    "        labels = []\n",
    "        images = []\n",
    "                        \n",
    "        # Get the list of image file paths in the directory\n",
    "        image_paths = glob.glob(os.path.join(images_filepath, \"*.png\"))\n",
    "\n",
    "        # Iterate over each image path\n",
    "        for image_path in image_paths:\n",
    "            image = Image.open(image_path)\n",
    "            resized_image = image.resize((512, 512))\n",
    "            grayscale_image = resized_image.convert(\"L\")\n",
    "            # array = np.array(grayscale_image).astype(float)\n",
    "            array = np.array(grayscale_image).astype(np.float16)\n",
    "\n",
    "            images.append(array)\n",
    "\n",
    "        return images\n",
    "        \n",
    "    def augmented_training_images(self, training_filepath: str):\n",
    "        \"\"\"\n",
    "        Function to augment minority category of training data to be of equal size to majority category\n",
    "\n",
    "        Steps: \n",
    "            - ingest training images and labels from new data subdir\n",
    "            for each image in training set (while len(cat A)<len(cat B))\n",
    "            - create new unique id\n",
    "            - write row to label csv\n",
    "            - apply one of a set of transformations to the new image and save it in image subdir\n",
    "        \"\"\"\n",
    "        # x_train = self.read_images(join(training_filepath, \"images\"))\n",
    "        # y_train = self.read_labels(training_filepath)\n",
    "        # x_train = self.read_images(self.training_images_filepath)\n",
    "        y_train = self.read_labels(self.training_labels_filepath)\n",
    "    \n",
    "        # print(f'x_train: {len(x_train)}')\n",
    "        print(f'y_train: {len(y_train)}')\n",
    "\n",
    "        # minority_cat = y_train[y_train[1] == \"true\"]\n",
    "        minority_cat = [el for el in y_train if el == 1]\n",
    "        # majority_cat = y_train[y_train[1] == \"false\"]\n",
    "        majority_cat = [el for el in y_train if el == 0]\n",
    "\n",
    "\n",
    "        print(f'minority_cat: {len(minority_cat)}')\n",
    "        print(f'majority_cat: {len(majority_cat)}')\n",
    "        print(f'Need to make {len(majority_cat)/len(minority_cat)} duplicates of each minority case')\n",
    "\n",
    "        theta = -15\n",
    "        for image in training_set:\n",
    "            if len(minority_cat) < len(majority_cat):\n",
    "                break\n",
    "\n",
    "            for i in range(48):\n",
    "                transform, theta = self.return_transform(iter, theta)\n",
    "                # Iterate over each item in the array\n",
    "                for call in transform:\n",
    "                    try:\n",
    "                        # Execute the function call using exec()\n",
    "                        _image = exec(call, image)\n",
    "                    except Exception as e:\n",
    "                        print('Error executing function:', e)\n",
    "\n",
    "            # \n",
    "\n",
    "    def return_transform(iter, theta):\n",
    "        transform = []\n",
    "        if iter%2 == 1:\n",
    "            transform.append(\"mirror()\")\n",
    "        if iter%2 == 0:\n",
    "            theta += 15\n",
    "        theta %= 360\n",
    "        transform.append(f\"rotate({theta})\")\n",
    "\n",
    "        return transform, theta\n",
    "\n",
    "    def return_transform(iter, theta):\n",
    "        transform = []\n",
    "        if iter%2 == 1:\n",
    "            transform.append(\"mirror()\")\n",
    "        theta += 15\n",
    "        theta %= 360\n",
    "        transform.append(f\"rotate({theta})\")\n",
    "\n",
    "        return transform, theta\n",
    "\n",
    "            \n",
    "    def load_data(self):\n",
    "        x_train = self.read_images(self.training_images_filepath)\n",
    "        y_train = self.read_labels(self.training_labels_filepath)\n",
    "        x_test = self.read_images(self.training_images_filepath)\n",
    "        y_test = self.read_labels(self.training_labels_filepath)\n",
    "\n",
    "          # Convert data to NumPy arrays\n",
    "        x_train = np.array(x_train)\n",
    "        y_train = np.array(y_train)\n",
    "        x_test = np.array(x_test)\n",
    "        y_test = np.array(y_test)\n",
    "        \n",
    "        return (x_train, y_train),(x_test, y_test)        "
   ]
  },
  {
   "cell_type": "code",
   "execution_count": 32,
   "metadata": {},
   "outputs": [
    {
     "name": "stdout",
     "output_type": "stream",
     "text": [
      "y_train: 4484\n",
      "minority_cat: 94\n",
      "majority_cat: 4390\n",
      "Need to make 46.702127659574465 duplicates of each minority case\n"
     ]
    }
   ],
   "source": [
    "\n",
    "# Set file paths based on added MNIST Datasets``\n",
    "input_path = 'data'\n",
    "training_images_filepath = join(input_path, join('training_nih', 'images'))\n",
    "training_labels_filepath = join(input_path, join('training_nih', 'emph_labels.csv'))\n",
    "test_images_filepath = join(input_path, join('test_nih', 'images'))\n",
    "test_labels_filepath = join(input_path, join('test_nih', 'emph_labels.csv'))\n",
    "\n",
    "# Load MINST dataset\n",
    "nih_dataloader = NIHDataloader(training_images_filepath, training_labels_filepath, test_images_filepath, test_labels_filepath)\n",
    "nih_dataloader.augmented_training_images(join('data','training_nih','images'))"
   ]
  },
  {
   "cell_type": "code",
   "execution_count": 53,
   "metadata": {},
   "outputs": [
    {
     "name": "stdout",
     "output_type": "stream",
     "text": [
      "['rotate(0)']\n",
      "['mirror()', 'rotate(0)']\n",
      "['rotate(15)']\n",
      "['mirror()', 'rotate(15)']\n",
      "['rotate(30)']\n",
      "['mirror()', 'rotate(30)']\n",
      "['rotate(45)']\n",
      "['mirror()', 'rotate(45)']\n",
      "['rotate(60)']\n",
      "['mirror()', 'rotate(60)']\n",
      "['rotate(75)']\n",
      "['mirror()', 'rotate(75)']\n",
      "['rotate(90)']\n",
      "['mirror()', 'rotate(90)']\n",
      "['rotate(105)']\n",
      "['mirror()', 'rotate(105)']\n",
      "['rotate(120)']\n",
      "['mirror()', 'rotate(120)']\n",
      "['rotate(135)']\n",
      "['mirror()', 'rotate(135)']\n",
      "['rotate(150)']\n",
      "['mirror()', 'rotate(150)']\n",
      "['rotate(165)']\n",
      "['mirror()', 'rotate(165)']\n",
      "['rotate(180)']\n",
      "['mirror()', 'rotate(180)']\n",
      "['rotate(195)']\n",
      "['mirror()', 'rotate(195)']\n",
      "['rotate(210)']\n",
      "['mirror()', 'rotate(210)']\n",
      "['rotate(225)']\n",
      "['mirror()', 'rotate(225)']\n",
      "['rotate(240)']\n",
      "['mirror()', 'rotate(240)']\n",
      "['rotate(255)']\n",
      "['mirror()', 'rotate(255)']\n",
      "['rotate(270)']\n",
      "['mirror()', 'rotate(270)']\n",
      "['rotate(285)']\n",
      "['mirror()', 'rotate(285)']\n",
      "['rotate(300)']\n",
      "['mirror()', 'rotate(300)']\n",
      "['rotate(315)']\n",
      "['mirror()', 'rotate(315)']\n",
      "['rotate(330)']\n",
      "['mirror()', 'rotate(330)']\n",
      "['rotate(345)']\n",
      "['mirror()', 'rotate(345)']\n"
     ]
    }
   ],
   "source": [
    "from IPython.display import clear_output\n",
    "clear_output(wait=True)\n",
    "\n",
    "def return_transform(iter, theta):\n",
    "    transform = []\n",
    "    if iter%2 == 1:\n",
    "        transform.append(\"mirror()\")\n",
    "    if iter%2 == 0:\n",
    "        theta += 15\n",
    "    theta %= 360\n",
    "    transform.append(f\"rotate({theta})\")\n",
    "\n",
    "    return transform, theta\n",
    "\n",
    "theta = -15\n",
    "for i in range(48):\n",
    "    transform, theta = return_transform(i, theta)\n",
    "    print(transform)"
   ]
  },
  {
   "cell_type": "markdown",
   "metadata": {},
   "source": [
    "## Rotate and translate functions"
   ]
  },
  {
   "cell_type": "code",
   "execution_count": null,
   "metadata": {},
   "outputs": [],
   "source": [
    "labels = []\n",
    "images = []\n",
    "                \n",
    "# Get the list of image file paths in the directory\n",
    "image_paths = glob.glob(os.path.join(images_filepath, \"*.png\"))\n",
    "\n",
    "# Iterate over each image path\n",
    "for image_path in image_paths:\n",
    "    image = Image.open(image_path)\n",
    "    resized_image = image.resize((512, 512))\n",
    "    grayscale_image = resized_image.convert(\"L\")\n",
    "    # array = np.array(grayscale_image).astype(float)\n",
    "    array = np.array(grayscale_image).astype(np.float16)\n",
    "\n",
    "    images.append(array)\n"
   ]
  },
  {
   "cell_type": "markdown",
   "metadata": {},
   "source": [
    "Ingest data and map labels to categorical data format"
   ]
  },
  {
   "cell_type": "code",
   "execution_count": null,
   "metadata": {},
   "outputs": [],
   "source": [
    "import os\n",
    "import glob\n",
    "from PIL import Image\n",
    "import numpy as np\n",
    "from array import array\n",
    "\n",
    "\n",
    "# MNIST Data Loader Class\n",
    "class NIHDataloader(object):\n",
    "    def __init__(self, \n",
    "                training_images_filepath,\n",
    "                training_labels_filepath,\n",
    "                test_images_filepath, \n",
    "                test_labels_filepath):\n",
    "        self.training_images_filepath = training_images_filepath\n",
    "        self.training_labels_filepath = training_labels_filepath\n",
    "        self.test_images_filepath = test_images_filepath\n",
    "        self.test_labels_filepath = test_labels_filepath\n",
    "    \n",
    "\n",
    "    def read_labels(self, labels_filepath):        \n",
    "        labels = []\n",
    "        images = []\n",
    "        \n",
    "        with open(labels_filepath, 'r') as file:\n",
    "            reader = csv.reader(file)\n",
    "            labels = array(\"B\", [1 if row[1]==\"true\" else 0 for row in reader])   \n",
    "        \n",
    "        return labels\n",
    "\n",
    "    def read_images(self, images_filepath):        \n",
    "        labels = []\n",
    "        images = []\n",
    "                        \n",
    "        # Get the list of image file paths in the directory\n",
    "        image_paths = glob.glob(os.path.join(images_filepath, \"*.png\"))\n",
    "\n",
    "        # Iterate over each image path\n",
    "        for image_path in image_paths:\n",
    "            image = Image.open(image_path)\n",
    "            resized_image = image.resize((512, 512))\n",
    "            grayscale_image = resized_image.convert(\"L\")\n",
    "            # array = np.array(grayscale_image).astype(float)\n",
    "            array = np.array(grayscale_image).astype(np.float16)\n",
    "\n",
    "            images.append(array)\n",
    "\n",
    "        return images\n",
    "        \n",
    "    def augmented_training_images(self, training_filepath: str):\n",
    "        \"\"\"\n",
    "        Function to augment minority category of training data to be of equal size to majority category\n",
    "\n",
    "        Steps: \n",
    "            - ingest training images and labels from new data subdir\n",
    "            for each image in training set (while len(cat A)<len(cat B))\n",
    "            - create new unique id\n",
    "            - write row to label csv\n",
    "            - apply one of a set of transformations to the new image and save it in image subdir\n",
    "        \"\"\"\n",
    "        # x_train = self.read_images(join(training_filepath, \"images\"))\n",
    "        # y_train = self.read_labels(training_filepath)\n",
    "        # x_train = self.read_images(self.training_images_filepath)\n",
    "        y_train = self.read_labels(self.training_labels_filepath)\n",
    "    \n",
    "        # print(f'x_train: {len(x_train)}')\n",
    "        print(f'y_train: {len(y_train)}')\n",
    "\n",
    "        # minority_cat = y_train[y_train[1] == \"true\"]\n",
    "        minority_cat = [el for el in y_train if el == 1]\n",
    "        # majority_cat = y_train[y_train[1] == \"false\"]\n",
    "        majority_cat = [el for el in y_train if el == 0]\n",
    "\n",
    "\n",
    "        print(f'minority_cat: {len(minority_cat)}')\n",
    "        print(f'majority_cat: {len(majority_cat)}')\n",
    "        print(f'Need to make {len(majority_cat)/len(minority_cat)} duplicates of each minority case')\n",
    "\n",
    "        transformations = {\n",
    "            'rot_1': rotate(270),\n",
    "            'mirror': mirror()\n",
    "        \n",
    "        }\n",
    "        while len(minority_cat) < len(majority_cat):\n",
    "            self.return_transform(iter)\n",
    "\n",
    "        #     if len(minority_cat) < len(majority_cat):\n",
    "        #         break\n",
    "        #     # generate a new image id that does not exist in training dataset\n",
    "        #     new_id = random_id_not_in_images()\n",
    "            \n",
    "        #     # make a copy of the current image row in csv with the new id\n",
    "        #     write_row_to_csv()\n",
    "\n",
    "            \n",
    "\n",
    "        #     # \n",
    "\n",
    "    def return_transform(iter):\n",
    "        transform = []\n",
    "        if iter%2 == 1:\n",
    "            transform.append(\"mirror()\")\n",
    "        theta += 15\n",
    "        transform.append(f\"rotate({theta})\")\n",
    "\n",
    "        return transform\n",
    "\n",
    "            \n",
    "    def load_data(self):\n",
    "        x_train = self.read_images(self.training_images_filepath)\n",
    "        y_train = self.read_labels(self.training_labels_filepath)\n",
    "        x_test = self.read_images(self.training_images_filepath)\n",
    "        y_test = self.read_labels(self.training_labels_filepath)\n",
    "\n",
    "          # Convert data to NumPy arrays\n",
    "        x_train = np.array(x_train)\n",
    "        y_train = np.array(y_train)\n",
    "        x_test = np.array(x_test)\n",
    "        y_test = np.array(y_test)\n",
    "        \n",
    "        return (x_train, y_train),(x_test, y_test)        "
   ]
  },
  {
   "cell_type": "code",
   "execution_count": null,
   "metadata": {},
   "outputs": [],
   "source": [
    "import os\n",
    "import glob\n",
    "from PIL import Image\n",
    "import numpy as np\n",
    "from array import array\n",
    "\n",
    "\n",
    "# MNIST Data Loader Class\n",
    "class NIHDataloader(object):\n",
    "    def __init__(self, \n",
    "                training_images_filepath,\n",
    "                training_labels_filepath,\n",
    "                test_images_filepath, \n",
    "                test_labels_filepath):\n",
    "        self.training_images_filepath = training_images_filepath\n",
    "        self.training_labels_filepath = training_labels_filepath\n",
    "        self.test_images_filepath = test_images_filepath\n",
    "        self.test_labels_filepath = test_labels_filepath\n",
    "    \n",
    "\n",
    "    def read_labels(self, labels_filepath):        \n",
    "        labels = []\n",
    "        images = []\n",
    "        \n",
    "        with open(labels_filepath, 'r') as file:\n",
    "            reader = csv.reader(file)\n",
    "            labels = array(\"B\", [1 if row[1]==\"true\" else 0 for row in reader])   \n",
    "        \n",
    "        return labels\n",
    "\n",
    "    def read_images(self, images_filepath):        \n",
    "        labels = []\n",
    "        images = []\n",
    "                        \n",
    "        # Get the list of image file paths in the directory\n",
    "        image_paths = glob.glob(os.path.join(images_filepath, \"*.png\"))\n",
    "\n",
    "        # Iterate over each image path\n",
    "        for image_path in image_paths:\n",
    "            image = Image.open(image_path)\n",
    "            resized_image = image.resize((512, 512))\n",
    "            grayscale_image = resized_image.convert(\"L\")\n",
    "            # array = np.array(grayscale_image).astype(float)\n",
    "            array = np.array(grayscale_image).astype(np.float16)\n",
    "\n",
    "            images.append(array)\n",
    "\n",
    "        return images\n",
    "        \n",
    "    def augmented_training_images(self, training_filepath: str):\n",
    "        \"\"\"\n",
    "        Function to augment minority category of training data to be of equal size to majority category\n",
    "\n",
    "        Steps: \n",
    "            - ingest training images and labels from new data subdir\n",
    "            for each image in training set (while len(cat A)<len(cat B))\n",
    "            - create new unique id\n",
    "            - write row to label csv\n",
    "            - apply one of a set of transformations to the new image and save it in image subdir\n",
    "        \"\"\"\n",
    "        # x_train = self.read_images(join(training_filepath, \"images\"))\n",
    "        # y_train = self.read_labels(training_filepath)\n",
    "        # x_train = self.read_images(self.training_images_filepath)\n",
    "        y_train = self.read_labels(self.training_labels_filepath)\n",
    "    \n",
    "        # print(f'x_train: {len(x_train)}')\n",
    "        print(f'y_train: {len(y_train)}')\n",
    "\n",
    "        # minority_cat = y_train[y_train[1] == \"true\"]\n",
    "        minority_cat = [el for el in y_train if el == 1]\n",
    "        # majority_cat = y_train[y_train[1] == \"false\"]\n",
    "        majority_cat = [el for el in y_train if el == 0]\n",
    "\n",
    "\n",
    "        print(f'minority_cat: {len(minority_cat)}')\n",
    "        print(f'majority_cat: {len(majority_cat)}')\n",
    "        print(f'Need to make {len(majority_cat)/len(minority_cat)} duplicates of each minority case')\n",
    "\n",
    "        transformations = {\n",
    "            'rot_1': rotate(270),\n",
    "            'mirror': mirror()\n",
    "        \n",
    "        }\n",
    "        while len(minority_cat) < len(majority_cat):\n",
    "            self.return_transform(iter)\n",
    "\n",
    "        #     if len(minority_cat) < len(majority_cat):\n",
    "        #         break\n",
    "        #     # generate a new image id that does not exist in training dataset\n",
    "        #     new_id = random_id_not_in_images()\n",
    "            \n",
    "        #     # make a copy of the current image row in csv with the new id\n",
    "        #     write_row_to_csv()\n",
    "\n",
    "            \n",
    "\n",
    "        #     # \n",
    "\n",
    "    def return_transform(iter):\n",
    "        transform = []\n",
    "        if iter%2 == 1:\n",
    "            transform.append(\"mirror()\")\n",
    "        theta += 15\n",
    "        transform.append(f\"rotate({theta})\")\n",
    "\n",
    "        return transform\n",
    "\n",
    "            \n",
    "    def load_data(self):\n",
    "        x_train = self.read_images(self.training_images_filepath)\n",
    "        y_train = self.read_labels(self.training_labels_filepath)\n",
    "        x_test = self.read_images(self.training_images_filepath)\n",
    "        y_test = self.read_labels(self.training_labels_filepath)\n",
    "\n",
    "          # Convert data to NumPy arrays\n",
    "        x_train = np.array(x_train)\n",
    "        y_train = np.array(y_train)\n",
    "        x_test = np.array(x_test)\n",
    "        y_test = np.array(y_test)\n",
    "        \n",
    "        return (x_train, y_train),(x_test, y_test)        "
   ]
  },
  {
   "cell_type": "code",
   "execution_count": 27,
   "metadata": {},
   "outputs": [
    {
     "name": "stdout",
     "output_type": "stream",
     "text": [
      "loaded data\n",
      "mapped y data to categorical\n"
     ]
    }
   ],
   "source": [
    "(x_train, y_train), (x_test, y_test) = nih_dataloader.load_data()\n",
    "print('loaded data')\n",
    "\n",
    "y_train = to_categorical(y_train)\n",
    "y_test = to_categorical(y_test)\n",
    "print('mapped y data to categorical')"
   ]
  },
  {
   "cell_type": "code",
   "execution_count": 28,
   "metadata": {},
   "outputs": [
    {
     "name": "stdout",
     "output_type": "stream",
     "text": [
      "x_train: [[ 85.  85.  84. ...   5.   5.   5.]\n",
      " [ 84.  84.  83. ...   5.   5.   5.]\n",
      " [ 80.  79.  79. ...   5.   5.   5.]\n",
      " ...\n",
      " [120. 122. 131. ...   7.   2.   2.]\n",
      " [115. 119. 129. ...   5.   3.   4.]\n",
      " [ 40.  41.  43. ...   3.   3.   3.]]\n",
      "y_train: [1. 0.]\n",
      "x_test: [[ 85.  85.  84. ...   5.   5.   5.]\n",
      " [ 84.  84.  83. ...   5.   5.   5.]\n",
      " [ 80.  79.  79. ...   5.   5.   5.]\n",
      " ...\n",
      " [120. 122. 131. ...   7.   2.   2.]\n",
      " [115. 119. 129. ...   5.   3.   4.]\n",
      " [ 40.  41.  43. ...   3.   3.   3.]]\n",
      "y_test: [1. 0.]\n"
     ]
    }
   ],
   "source": [
    "print(f'x_train: {x_train[0]}')\n",
    "print(f'y_train: {y_train[0]}')\n",
    "print(f'x_test: {x_test[0]}')\n",
    "print(f'y_test: {y_test[0]}')"
   ]
  },
  {
   "cell_type": "code",
   "execution_count": 46,
   "metadata": {},
   "outputs": [
    {
     "name": "stdout",
     "output_type": "stream",
     "text": [
      "Model: \"sequential_8\"\n",
      "_________________________________________________________________\n",
      " Layer (type)                Output Shape              Param #   \n",
      "=================================================================\n",
      " conv2d_24 (Conv2D)          (None, 510, 510, 32)      320       \n",
      "                                                                 \n",
      " max_pooling2d_16 (MaxPooli  (None, 255, 255, 32)      0         \n",
      " ng2D)                                                           \n",
      "                                                                 \n",
      " conv2d_25 (Conv2D)          (None, 253, 253, 64)      18496     \n",
      "                                                                 \n",
      " max_pooling2d_17 (MaxPooli  (None, 126, 126, 64)      0         \n",
      " ng2D)                                                           \n",
      "                                                                 \n",
      " conv2d_26 (Conv2D)          (None, 124, 124, 64)      36928     \n",
      "                                                                 \n",
      "=================================================================\n",
      "Total params: 55744 (217.75 KB)\n",
      "Trainable params: 55744 (217.75 KB)\n",
      "Non-trainable params: 0 (0.00 Byte)\n",
      "_________________________________________________________________\n",
      "model.summary(): None\n",
      "Model: \"sequential_8\"\n",
      "_________________________________________________________________\n",
      " Layer (type)                Output Shape              Param #   \n",
      "=================================================================\n",
      " conv2d_24 (Conv2D)          (None, 510, 510, 32)      320       \n",
      "                                                                 \n",
      " max_pooling2d_16 (MaxPooli  (None, 255, 255, 32)      0         \n",
      " ng2D)                                                           \n",
      "                                                                 \n",
      " conv2d_25 (Conv2D)          (None, 253, 253, 64)      18496     \n",
      "                                                                 \n",
      " max_pooling2d_17 (MaxPooli  (None, 126, 126, 64)      0         \n",
      " ng2D)                                                           \n",
      "                                                                 \n",
      " conv2d_26 (Conv2D)          (None, 124, 124, 64)      36928     \n",
      "                                                                 \n",
      " flatten_8 (Flatten)         (None, 984064)            0         \n",
      "                                                                 \n",
      " dense_16 (Dense)            (None, 64)                62980160  \n",
      "                                                                 \n",
      " dense_17 (Dense)            (None, 2)                 130       \n",
      "                                                                 \n",
      "=================================================================\n",
      "Total params: 63036034 (240.46 MB)\n",
      "Trainable params: 63036034 (240.46 MB)\n",
      "Non-trainable params: 0 (0.00 Byte)\n",
      "_________________________________________________________________\n",
      "model.summary(): None\n",
      "compiled model\n"
     ]
    }
   ],
   "source": [
    "model = compile_model(0.005)\n",
    "print('compiled model')"
   ]
  },
  {
   "cell_type": "code",
   "execution_count": 56,
   "metadata": {},
   "outputs": [
    {
     "name": "stdout",
     "output_type": "stream",
     "text": [
      "Epoch 1/32\n",
      "  2/141 [..............................] - ETA: 12:37 - loss: 0.0818 - accuracy: 0.9844"
     ]
    },
    {
     "ename": "KeyboardInterrupt",
     "evalue": "",
     "output_type": "error",
     "traceback": [
      "\u001b[1;31m---------------------------------------------------------------------------\u001b[0m",
      "\u001b[1;31mKeyboardInterrupt\u001b[0m                         Traceback (most recent call last)",
      "Cell \u001b[1;32mIn[56], line 1\u001b[0m\n\u001b[1;32m----> 1\u001b[0m history, precision, recall, f1 \u001b[39m=\u001b[39m train_model(x_train, y_train, x_test, y_test, model, \u001b[39m32\u001b[39;49m, \u001b[39m32\u001b[39;49m)\n\u001b[0;32m      2\u001b[0m \u001b[39mprint\u001b[39m(\u001b[39m'\u001b[39m\u001b[39mtrain model\u001b[39m\u001b[39m'\u001b[39m)\n",
      "Cell \u001b[1;32mIn[54], line 41\u001b[0m, in \u001b[0;36mtrain_model\u001b[1;34m(X_train, Y_train, X_test, Y_test, model, epochs, batch_size)\u001b[0m\n\u001b[0;32m     40\u001b[0m \u001b[39mdef\u001b[39;00m \u001b[39mtrain_model\u001b[39m(X_train, Y_train, X_test, Y_test, model, epochs, batch_size):\n\u001b[1;32m---> 41\u001b[0m     history \u001b[39m=\u001b[39m model\u001b[39m.\u001b[39;49mfit(X_train, Y_train, epochs\u001b[39m=\u001b[39;49mepochs, batch_size\u001b[39m=\u001b[39;49mbatch_size)\n\u001b[0;32m     43\u001b[0m     \u001b[39m# Predict on test set\u001b[39;00m\n\u001b[0;32m     44\u001b[0m     y_pred \u001b[39m=\u001b[39m model\u001b[39m.\u001b[39mpredict(X_test)\n",
      "File \u001b[1;32mc:\\Python311\\Lib\\site-packages\\keras\\src\\utils\\traceback_utils.py:65\u001b[0m, in \u001b[0;36mfilter_traceback.<locals>.error_handler\u001b[1;34m(*args, **kwargs)\u001b[0m\n\u001b[0;32m     63\u001b[0m filtered_tb \u001b[39m=\u001b[39m \u001b[39mNone\u001b[39;00m\n\u001b[0;32m     64\u001b[0m \u001b[39mtry\u001b[39;00m:\n\u001b[1;32m---> 65\u001b[0m     \u001b[39mreturn\u001b[39;00m fn(\u001b[39m*\u001b[39;49margs, \u001b[39m*\u001b[39;49m\u001b[39m*\u001b[39;49mkwargs)\n\u001b[0;32m     66\u001b[0m \u001b[39mexcept\u001b[39;00m \u001b[39mException\u001b[39;00m \u001b[39mas\u001b[39;00m e:\n\u001b[0;32m     67\u001b[0m     filtered_tb \u001b[39m=\u001b[39m _process_traceback_frames(e\u001b[39m.\u001b[39m__traceback__)\n",
      "File \u001b[1;32mc:\\Python311\\Lib\\site-packages\\keras\\src\\engine\\training.py:1742\u001b[0m, in \u001b[0;36mModel.fit\u001b[1;34m(self, x, y, batch_size, epochs, verbose, callbacks, validation_split, validation_data, shuffle, class_weight, sample_weight, initial_epoch, steps_per_epoch, validation_steps, validation_batch_size, validation_freq, max_queue_size, workers, use_multiprocessing)\u001b[0m\n\u001b[0;32m   1734\u001b[0m \u001b[39mwith\u001b[39;00m tf\u001b[39m.\u001b[39mprofiler\u001b[39m.\u001b[39mexperimental\u001b[39m.\u001b[39mTrace(\n\u001b[0;32m   1735\u001b[0m     \u001b[39m\"\u001b[39m\u001b[39mtrain\u001b[39m\u001b[39m\"\u001b[39m,\n\u001b[0;32m   1736\u001b[0m     epoch_num\u001b[39m=\u001b[39mepoch,\n\u001b[1;32m   (...)\u001b[0m\n\u001b[0;32m   1739\u001b[0m     _r\u001b[39m=\u001b[39m\u001b[39m1\u001b[39m,\n\u001b[0;32m   1740\u001b[0m ):\n\u001b[0;32m   1741\u001b[0m     callbacks\u001b[39m.\u001b[39mon_train_batch_begin(step)\n\u001b[1;32m-> 1742\u001b[0m     tmp_logs \u001b[39m=\u001b[39m \u001b[39mself\u001b[39;49m\u001b[39m.\u001b[39;49mtrain_function(iterator)\n\u001b[0;32m   1743\u001b[0m     \u001b[39mif\u001b[39;00m data_handler\u001b[39m.\u001b[39mshould_sync:\n\u001b[0;32m   1744\u001b[0m         context\u001b[39m.\u001b[39masync_wait()\n",
      "File \u001b[1;32mc:\\Python311\\Lib\\site-packages\\tensorflow\\python\\util\\traceback_utils.py:150\u001b[0m, in \u001b[0;36mfilter_traceback.<locals>.error_handler\u001b[1;34m(*args, **kwargs)\u001b[0m\n\u001b[0;32m    148\u001b[0m filtered_tb \u001b[39m=\u001b[39m \u001b[39mNone\u001b[39;00m\n\u001b[0;32m    149\u001b[0m \u001b[39mtry\u001b[39;00m:\n\u001b[1;32m--> 150\u001b[0m   \u001b[39mreturn\u001b[39;00m fn(\u001b[39m*\u001b[39;49margs, \u001b[39m*\u001b[39;49m\u001b[39m*\u001b[39;49mkwargs)\n\u001b[0;32m    151\u001b[0m \u001b[39mexcept\u001b[39;00m \u001b[39mException\u001b[39;00m \u001b[39mas\u001b[39;00m e:\n\u001b[0;32m    152\u001b[0m   filtered_tb \u001b[39m=\u001b[39m _process_traceback_frames(e\u001b[39m.\u001b[39m__traceback__)\n",
      "File \u001b[1;32mc:\\Python311\\Lib\\site-packages\\tensorflow\\python\\eager\\polymorphic_function\\polymorphic_function.py:825\u001b[0m, in \u001b[0;36mFunction.__call__\u001b[1;34m(self, *args, **kwds)\u001b[0m\n\u001b[0;32m    822\u001b[0m compiler \u001b[39m=\u001b[39m \u001b[39m\"\u001b[39m\u001b[39mxla\u001b[39m\u001b[39m\"\u001b[39m \u001b[39mif\u001b[39;00m \u001b[39mself\u001b[39m\u001b[39m.\u001b[39m_jit_compile \u001b[39melse\u001b[39;00m \u001b[39m\"\u001b[39m\u001b[39mnonXla\u001b[39m\u001b[39m\"\u001b[39m\n\u001b[0;32m    824\u001b[0m \u001b[39mwith\u001b[39;00m OptionalXlaContext(\u001b[39mself\u001b[39m\u001b[39m.\u001b[39m_jit_compile):\n\u001b[1;32m--> 825\u001b[0m   result \u001b[39m=\u001b[39m \u001b[39mself\u001b[39;49m\u001b[39m.\u001b[39;49m_call(\u001b[39m*\u001b[39;49margs, \u001b[39m*\u001b[39;49m\u001b[39m*\u001b[39;49mkwds)\n\u001b[0;32m    827\u001b[0m new_tracing_count \u001b[39m=\u001b[39m \u001b[39mself\u001b[39m\u001b[39m.\u001b[39mexperimental_get_tracing_count()\n\u001b[0;32m    828\u001b[0m without_tracing \u001b[39m=\u001b[39m (tracing_count \u001b[39m==\u001b[39m new_tracing_count)\n",
      "File \u001b[1;32mc:\\Python311\\Lib\\site-packages\\tensorflow\\python\\eager\\polymorphic_function\\polymorphic_function.py:857\u001b[0m, in \u001b[0;36mFunction._call\u001b[1;34m(self, *args, **kwds)\u001b[0m\n\u001b[0;32m    854\u001b[0m   \u001b[39mself\u001b[39m\u001b[39m.\u001b[39m_lock\u001b[39m.\u001b[39mrelease()\n\u001b[0;32m    855\u001b[0m   \u001b[39m# In this case we have created variables on the first call, so we run the\u001b[39;00m\n\u001b[0;32m    856\u001b[0m   \u001b[39m# defunned version which is guaranteed to never create variables.\u001b[39;00m\n\u001b[1;32m--> 857\u001b[0m   \u001b[39mreturn\u001b[39;00m \u001b[39mself\u001b[39;49m\u001b[39m.\u001b[39;49m_no_variable_creation_fn(\u001b[39m*\u001b[39;49margs, \u001b[39m*\u001b[39;49m\u001b[39m*\u001b[39;49mkwds)  \u001b[39m# pylint: disable=not-callable\u001b[39;00m\n\u001b[0;32m    858\u001b[0m \u001b[39melif\u001b[39;00m \u001b[39mself\u001b[39m\u001b[39m.\u001b[39m_variable_creation_fn \u001b[39mis\u001b[39;00m \u001b[39mnot\u001b[39;00m \u001b[39mNone\u001b[39;00m:\n\u001b[0;32m    859\u001b[0m   \u001b[39m# Release the lock early so that multiple threads can perform the call\u001b[39;00m\n\u001b[0;32m    860\u001b[0m   \u001b[39m# in parallel.\u001b[39;00m\n\u001b[0;32m    861\u001b[0m   \u001b[39mself\u001b[39m\u001b[39m.\u001b[39m_lock\u001b[39m.\u001b[39mrelease()\n",
      "File \u001b[1;32mc:\\Python311\\Lib\\site-packages\\tensorflow\\python\\eager\\polymorphic_function\\tracing_compiler.py:148\u001b[0m, in \u001b[0;36mTracingCompiler.__call__\u001b[1;34m(self, *args, **kwargs)\u001b[0m\n\u001b[0;32m    145\u001b[0m \u001b[39mwith\u001b[39;00m \u001b[39mself\u001b[39m\u001b[39m.\u001b[39m_lock:\n\u001b[0;32m    146\u001b[0m   (concrete_function,\n\u001b[0;32m    147\u001b[0m    filtered_flat_args) \u001b[39m=\u001b[39m \u001b[39mself\u001b[39m\u001b[39m.\u001b[39m_maybe_define_function(args, kwargs)\n\u001b[1;32m--> 148\u001b[0m \u001b[39mreturn\u001b[39;00m concrete_function\u001b[39m.\u001b[39;49m_call_flat(\n\u001b[0;32m    149\u001b[0m     filtered_flat_args, captured_inputs\u001b[39m=\u001b[39;49mconcrete_function\u001b[39m.\u001b[39;49mcaptured_inputs)\n",
      "File \u001b[1;32mc:\\Python311\\Lib\\site-packages\\tensorflow\\python\\eager\\polymorphic_function\\monomorphic_function.py:1349\u001b[0m, in \u001b[0;36mConcreteFunction._call_flat\u001b[1;34m(self, args, captured_inputs)\u001b[0m\n\u001b[0;32m   1345\u001b[0m possible_gradient_type \u001b[39m=\u001b[39m gradients_util\u001b[39m.\u001b[39mPossibleTapeGradientTypes(args)\n\u001b[0;32m   1346\u001b[0m \u001b[39mif\u001b[39;00m (possible_gradient_type \u001b[39m==\u001b[39m gradients_util\u001b[39m.\u001b[39mPOSSIBLE_GRADIENT_TYPES_NONE\n\u001b[0;32m   1347\u001b[0m     \u001b[39mand\u001b[39;00m executing_eagerly):\n\u001b[0;32m   1348\u001b[0m   \u001b[39m# No tape is watching; skip to running the function.\u001b[39;00m\n\u001b[1;32m-> 1349\u001b[0m   \u001b[39mreturn\u001b[39;00m \u001b[39mself\u001b[39m\u001b[39m.\u001b[39m_build_call_outputs(\u001b[39mself\u001b[39;49m\u001b[39m.\u001b[39;49m_inference_function(\u001b[39m*\u001b[39;49margs))\n\u001b[0;32m   1350\u001b[0m forward_backward \u001b[39m=\u001b[39m \u001b[39mself\u001b[39m\u001b[39m.\u001b[39m_select_forward_and_backward_functions(\n\u001b[0;32m   1351\u001b[0m     args,\n\u001b[0;32m   1352\u001b[0m     possible_gradient_type,\n\u001b[0;32m   1353\u001b[0m     executing_eagerly)\n\u001b[0;32m   1354\u001b[0m forward_function, args_with_tangents \u001b[39m=\u001b[39m forward_backward\u001b[39m.\u001b[39mforward()\n",
      "File \u001b[1;32mc:\\Python311\\Lib\\site-packages\\tensorflow\\python\\eager\\polymorphic_function\\atomic_function.py:196\u001b[0m, in \u001b[0;36mAtomicFunction.__call__\u001b[1;34m(self, *args)\u001b[0m\n\u001b[0;32m    194\u001b[0m \u001b[39mwith\u001b[39;00m record\u001b[39m.\u001b[39mstop_recording():\n\u001b[0;32m    195\u001b[0m   \u001b[39mif\u001b[39;00m \u001b[39mself\u001b[39m\u001b[39m.\u001b[39m_bound_context\u001b[39m.\u001b[39mexecuting_eagerly():\n\u001b[1;32m--> 196\u001b[0m     outputs \u001b[39m=\u001b[39m \u001b[39mself\u001b[39;49m\u001b[39m.\u001b[39;49m_bound_context\u001b[39m.\u001b[39;49mcall_function(\n\u001b[0;32m    197\u001b[0m         \u001b[39mself\u001b[39;49m\u001b[39m.\u001b[39;49mname,\n\u001b[0;32m    198\u001b[0m         \u001b[39mlist\u001b[39;49m(args),\n\u001b[0;32m    199\u001b[0m         \u001b[39mlen\u001b[39;49m(\u001b[39mself\u001b[39;49m\u001b[39m.\u001b[39;49mfunction_type\u001b[39m.\u001b[39;49mflat_outputs),\n\u001b[0;32m    200\u001b[0m     )\n\u001b[0;32m    201\u001b[0m   \u001b[39melse\u001b[39;00m:\n\u001b[0;32m    202\u001b[0m     outputs \u001b[39m=\u001b[39m make_call_op_in_graph(\u001b[39mself\u001b[39m, \u001b[39mlist\u001b[39m(args))\n",
      "File \u001b[1;32mc:\\Python311\\Lib\\site-packages\\tensorflow\\python\\eager\\context.py:1457\u001b[0m, in \u001b[0;36mContext.call_function\u001b[1;34m(self, name, tensor_inputs, num_outputs)\u001b[0m\n\u001b[0;32m   1455\u001b[0m cancellation_context \u001b[39m=\u001b[39m cancellation\u001b[39m.\u001b[39mcontext()\n\u001b[0;32m   1456\u001b[0m \u001b[39mif\u001b[39;00m cancellation_context \u001b[39mis\u001b[39;00m \u001b[39mNone\u001b[39;00m:\n\u001b[1;32m-> 1457\u001b[0m   outputs \u001b[39m=\u001b[39m execute\u001b[39m.\u001b[39;49mexecute(\n\u001b[0;32m   1458\u001b[0m       name\u001b[39m.\u001b[39;49mdecode(\u001b[39m\"\u001b[39;49m\u001b[39mutf-8\u001b[39;49m\u001b[39m\"\u001b[39;49m),\n\u001b[0;32m   1459\u001b[0m       num_outputs\u001b[39m=\u001b[39;49mnum_outputs,\n\u001b[0;32m   1460\u001b[0m       inputs\u001b[39m=\u001b[39;49mtensor_inputs,\n\u001b[0;32m   1461\u001b[0m       attrs\u001b[39m=\u001b[39;49mattrs,\n\u001b[0;32m   1462\u001b[0m       ctx\u001b[39m=\u001b[39;49m\u001b[39mself\u001b[39;49m,\n\u001b[0;32m   1463\u001b[0m   )\n\u001b[0;32m   1464\u001b[0m \u001b[39melse\u001b[39;00m:\n\u001b[0;32m   1465\u001b[0m   outputs \u001b[39m=\u001b[39m execute\u001b[39m.\u001b[39mexecute_with_cancellation(\n\u001b[0;32m   1466\u001b[0m       name\u001b[39m.\u001b[39mdecode(\u001b[39m\"\u001b[39m\u001b[39mutf-8\u001b[39m\u001b[39m\"\u001b[39m),\n\u001b[0;32m   1467\u001b[0m       num_outputs\u001b[39m=\u001b[39mnum_outputs,\n\u001b[1;32m   (...)\u001b[0m\n\u001b[0;32m   1471\u001b[0m       cancellation_manager\u001b[39m=\u001b[39mcancellation_context,\n\u001b[0;32m   1472\u001b[0m   )\n",
      "File \u001b[1;32mc:\\Python311\\Lib\\site-packages\\tensorflow\\python\\eager\\execute.py:53\u001b[0m, in \u001b[0;36mquick_execute\u001b[1;34m(op_name, num_outputs, inputs, attrs, ctx, name)\u001b[0m\n\u001b[0;32m     51\u001b[0m \u001b[39mtry\u001b[39;00m:\n\u001b[0;32m     52\u001b[0m   ctx\u001b[39m.\u001b[39mensure_initialized()\n\u001b[1;32m---> 53\u001b[0m   tensors \u001b[39m=\u001b[39m pywrap_tfe\u001b[39m.\u001b[39;49mTFE_Py_Execute(ctx\u001b[39m.\u001b[39;49m_handle, device_name, op_name,\n\u001b[0;32m     54\u001b[0m                                       inputs, attrs, num_outputs)\n\u001b[0;32m     55\u001b[0m \u001b[39mexcept\u001b[39;00m core\u001b[39m.\u001b[39m_NotOkStatusException \u001b[39mas\u001b[39;00m e:\n\u001b[0;32m     56\u001b[0m   \u001b[39mif\u001b[39;00m name \u001b[39mis\u001b[39;00m \u001b[39mnot\u001b[39;00m \u001b[39mNone\u001b[39;00m:\n",
      "\u001b[1;31mKeyboardInterrupt\u001b[0m: "
     ]
    }
   ],
   "source": [
    "history, precision, recall, f1 = train_model(x_train, y_train, x_test, y_test, model, 32, 32)\n",
    "print('train model')"
   ]
  },
  {
   "cell_type": "code",
   "execution_count": 6,
   "metadata": {},
   "outputs": [
    {
     "data": {
      "image/png": "[encoded data removed]",
      "text/plain": [
       "<Figure size 1400x600 with 2 Axes>"
      ]
     },
     "metadata": {},
     "output_type": "display_data"
    },
    {
     "name": "stdout",
     "output_type": "stream",
     "text": [
      "313/313 [==============================] - 3s 9ms/step - loss: 0.0578 - accuracy: 0.9906\n"
     ]
    },
    {
     "name": "stderr",
     "output_type": "stream",
     "text": [
      "2023-09-01 14:47:06.280 \n",
      "  \u001b[33m\u001b[1mWarning:\u001b[0m to view this Streamlit app on a browser, run it with the following\n",
      "  command:\n",
      "\n",
      "    streamlit run C:\\Users\\ShaneShort\\AppData\\Roaming\\Python\\Python311\\site-packages\\ipykernel_launcher.py [ARGUMENTS]\n"
     ]
    },
    {
     "name": "stdout",
     "output_type": "stream",
     "text": [
      "analyse training\n"
     ]
    }
   ],
   "source": [
    "test_loss, test_acc = analyse_history(model, history, x_test, y_test)\n",
    "print('analyse training')"
   ]
  },
  {
   "cell_type": "markdown",
   "metadata": {},
   "source": [
    "Testing model against individual images"
   ]
  },
  {
   "cell_type": "code",
   "execution_count": 7,
   "metadata": {},
   "outputs": [
    {
     "name": "stdout",
     "output_type": "stream",
     "text": [
      "1/1 [==============================] - 0s 207ms/step\n",
      "Prediction: 8\n",
      "True Label: 8\n"
     ]
    },
    {
     "data": {
      "image/png": "[encoded data removed]",
      "text/plain": [
       "<Figure size 640x480 with 1 Axes>"
      ]
     },
     "metadata": {},
     "output_type": "display_data"
    }
   ],
   "source": [
    "import matplotlib.pyplot as plt\n",
    "import random\n",
    "\n",
    "def _test_single(X_test, Y_test, image_index):\n",
    "    image = X_test[image_index]  # Get the corresponding image data from X_test\n",
    "    label = Y_test[image_index]  # Get the corresponding label data from y_test\n",
    "\n",
    "    image = image.reshape(28, 28)  # Reshape the image array from (28, 28, 1) to (28, 28)\n",
    "\n",
    "    plt.imshow(image, cmap='gray')  # Display the image using grayscale color map\n",
    "    plt.title(f\"Label: {np.argmax(label)}\")  # Set the title of the plot with the true label\n",
    "    plt.axis('off')  # Remove the axis labels\n",
    "\n",
    "    return plt.gcf()  # Return the current figure for later plotting\n",
    "\n",
    "image_index = random.randint(0, len(x_test)-1)  # Generate a random index within the range of the test set\n",
    "label = y_test[image_index]  # Get the corresponding label data from y_test\n",
    "prediction = model.predict(np.expand_dims(x_test[image_index], axis=0))\n",
    "predicted_label = np.argmax(prediction)\n",
    "\n",
    "print(\"Prediction:\", predicted_label)\n",
    "print(\"True Label:\", np.argmax(label))\n",
    "\n",
    "figure = _test_single(x_test, y_test, image_index)\n",
    "plt.show()  # Show the plot\n"
   ]
  },
  {
   "cell_type": "code",
   "execution_count": 17,
   "metadata": {},
   "outputs": [],
   "source": [
    "import tkinter as tk\n",
    "from PIL import Image, ImageDraw\n",
    "import io"
   ]
  },
  {
   "cell_type": "code",
   "execution_count": 18,
   "metadata": {},
   "outputs": [],
   "source": [
    "\n",
    "window = tk.Tk()\n",
    "canvas = tk.Canvas(window, width=280, height=280, bg='white')\n",
    "canvas.pack()"
   ]
  },
  {
   "cell_type": "code",
   "execution_count": 19,
   "metadata": {},
   "outputs": [],
   "source": [
    "def on_mouse_drag(event):\n",
    "    x = event.x\n",
    "    y = event.y\n",
    "    radius = 5\n",
    "    canvas.create_oval(x - radius, y - radius, x + radius, y + radius, fill='black')\n",
    "\n",
    "canvas.bind('<B1-Motion>', on_mouse_drag)\n",
    "def clear_canvas():\n",
    "    canvas.delete('all')\n",
    "\n",
    "def run_model_prediction():\n",
    "    image = canvas.postscript(colormode='gray')\n",
    "    img = Image.open(io.BytesIO(image.encode('utf-8')))\n",
    "    img = img.resize((28, 28))\n",
    "    # Process the image and feed it into your model for prediction\n",
    "    prediction = model.predict(np.expand_dims(img, axis=0))\n",
    "    predicted_label = np.argmax(prediction)\n",
    "\n",
    "    print(\"Prediction:\", predicted_label)\n"
   ]
  },
  {
   "cell_type": "code",
   "execution_count": 20,
   "metadata": {},
   "outputs": [
    {
     "name": "stderr",
     "output_type": "stream",
     "text": [
      "Exception in Tkinter callback\n",
      "Traceback (most recent call last):\n",
      "  File \"c:\\Python311\\Lib\\tkinter\\__init__.py\", line 1948, in __call__\n",
      "    return self.func(*args)\n",
      "           ^^^^^^^^^^^^^^^^\n",
      "  File \"C:\\Users\\ShaneShort\\AppData\\Local\\Temp\\ipykernel_9444\\1246062621.py\", line 14, in run_model_prediction\n",
      "    img = img.resize((28, 28))\n",
      "          ^^^^^^^^^^^^^^^^^^^^\n",
      "  File \"c:\\Python311\\Lib\\site-packages\\PIL\\Image.py\", line 2157, in resize\n",
      "    self.load()\n",
      "  File \"c:\\Python311\\Lib\\site-packages\\PIL\\EpsImagePlugin.py\", line 387, in load\n",
      "    self.im = Ghostscript(self.tile, self.size, self.fp, scale, transparency)\n",
      "              ^^^^^^^^^^^^^^^^^^^^^^^^^^^^^^^^^^^^^^^^^^^^^^^^^^^^^^^^^^^^^^^\n",
      "  File \"c:\\Python311\\Lib\\site-packages\\PIL\\EpsImagePlugin.py\", line 138, in Ghostscript\n",
      "    raise OSError(msg)\n",
      "OSError: Unable to locate Ghostscript on paths\n"
     ]
    }
   ],
   "source": [
    "clear_button = tk.Button(window, text='Clear', command=clear_canvas)\n",
    "clear_button.pack()\n",
    "\n",
    "predict_button = tk.Button(window, text='Predict', command=run_model_prediction)\n",
    "predict_button.pack()\n",
    "\n",
    "window.mainloop()"
   ]
  }
 ],
 "metadata": {
  "kernelspec": {
   "display_name": "Python 3",
   "language": "python",
   "name": "python3"
  },
  "language_info": {
   "codemirror_mode": {
    "name": "ipython",
    "version": 3
   },
   "file_extension": ".py",
   "mimetype": "text/x-python",
   "name": "python",
   "nbconvert_exporter": "python",
   "pygments_lexer": "ipython3",
   "version": "3.11.0"
  },
  "orig_nbformat": 4
 },
 "nbformat": 4,
 "nbformat_minor": 2
}
