{
 "cells": [
  {
   "cell_type": "markdown",
   "metadata": {},
   "source": [
    "# Classic MNIST notebook"
   ]
  },
  {
   "cell_type": "code",
   "execution_count": 21,
   "metadata": {},
   "outputs": [],
   "source": [
    "import pandas as pd\n",
    "import numpy as np\n",
    "from sklearn.model_selection import train_test_split\n",
    "from keras.utils import to_categorical\n",
    "import streamlit as st\n",
    "from keras import layers\n",
    "from keras import models\n",
    "import matplotlib.pyplot as plt\n",
    "import struct\n",
    "from array import array\n",
    "from os.path  import join"
   ]
  },
  {
   "cell_type": "markdown",
   "metadata": {},
   "source": [
    "## Data pre-processing"
   ]
  },
  {
   "cell_type": "code",
   "execution_count": 22,
   "metadata": {},
   "outputs": [],
   "source": [
    "# MNIST Data Loader Class\n",
    "class MnistDataloader(object):\n",
    "    def __init__(self, \n",
    "                training_images_filepath,\n",
    "                training_labels_filepath,\n",
    "                test_images_filepath, \n",
    "                test_labels_filepath):\n",
    "        self.training_images_filepath = training_images_filepath\n",
    "        self.training_labels_filepath = training_labels_filepath\n",
    "        self.test_images_filepath = test_images_filepath\n",
    "        self.test_labels_filepath = test_labels_filepath\n",
    "    \n",
    "    def read_images_labels(self, images_filepath, labels_filepath):        \n",
    "        labels = []\n",
    "        with open(labels_filepath, 'rb') as file:\n",
    "            magic, size = struct.unpack(\">II\", file.read(8))\n",
    "            if magic != 2049:\n",
    "                raise ValueError('Magic number mismatch, expected 2049, got {}'.format(magic))\n",
    "            labels = array(\"B\", file.read())        \n",
    "        \n",
    "        with open(images_filepath, 'rb') as file:\n",
    "            magic, size, rows, cols = struct.unpack(\">IIII\", file.read(16))\n",
    "            if magic != 2051:\n",
    "                raise ValueError('Magic number mismatch, expected 2051, got {}'.format(magic))\n",
    "            image_data = array(\"B\", file.read())        \n",
    "        images = []\n",
    "        for i in range(size):\n",
    "            images.append([0] * rows * cols)\n",
    "        for i in range(size):\n",
    "            img = np.array(image_data[i * rows * cols:(i + 1) * rows * cols])\n",
    "            img = img.reshape(28, 28)\n",
    "            images[i][:] = img            \n",
    "        \n",
    "        return images, labels\n",
    "            \n",
    "    def load_data(self):\n",
    "        x_train, y_train = self.read_images_labels(self.training_images_filepath, self.training_labels_filepath)\n",
    "        x_test, y_test = self.read_images_labels(self.test_images_filepath, self.test_labels_filepath)\n",
    "\n",
    "          # Convert data to NumPy arrays\n",
    "        x_train = np.array(x_train)\n",
    "        y_train = np.array(y_train)\n",
    "        x_test = np.array(x_test)\n",
    "        y_test = np.array(y_test)\n",
    "        \n",
    "        return (x_train, y_train),(x_test, y_test)        "
   ]
  },
  {
   "cell_type": "markdown",
   "metadata": {},
   "source": [
    "Helper functions to manage model building, training and training analysis"
   ]
  },
  {
   "cell_type": "code",
   "execution_count": 3,
   "metadata": {},
   "outputs": [],
   "source": [
    "def compile_model():\n",
    "    # Setting up the convolution neural network with convnet and maxpooling layer\n",
    "    model = models.Sequential()\n",
    "    model.add(layers.Conv2D(32, (3, 3), activation='relu', input_shape=(28, 28, 1)))\n",
    "    model.add(layers.MaxPooling2D((2, 2)))\n",
    "    model.add(layers.Conv2D(64, (3, 3), activation='relu'))\n",
    "    model.add(layers.MaxPooling2D((2, 2)))\n",
    "    model.add(layers.Conv2D(64, (3, 3), activation='relu'))\n",
    "\n",
    "    # Model Summary\n",
    "    print(f'model.summary(): {model.summary()}')\n",
    "\n",
    "    # Adding the fully connected layers to CNN\n",
    "    model.add(layers.Flatten())\n",
    "    model.add(layers.Dense(64, activation='relu'))\n",
    "    model.add(layers.Dense(10, activation='softmax'))\n",
    "\n",
    "    # Printing model summary\n",
    "    print(f'model.summary(): {model.summary()}')\n",
    "\n",
    "    # Configuring the network\n",
    "    model.compile(optimizer='rmsprop',\n",
    "                loss='categorical_crossentropy',\n",
    "                metrics=['accuracy'])\n",
    "    \n",
    "    return model\n",
    "\n",
    "\n",
    "def train_model(X_train,\n",
    "                Y_train, \n",
    "                model):\n",
    "    \n",
    "    history = model.fit(X_train, Y_train,\n",
    "                        epochs=15,\n",
    "                        batch_size=512)\n",
    "    \n",
    "    return history\n",
    "\n",
    "\n",
    "def analyse_history(model, history, X_test, Y_test):  \n",
    "\n",
    "    history_dict = history.history\n",
    "    loss_values = history_dict['loss']\n",
    "    accuracy = history_dict['accuracy']\n",
    "    \n",
    "    epochs = range(1, len(loss_values) + 1)\n",
    "    fig, ax = plt.subplots(1, 2, figsize=(14, 6))\n",
    "    \n",
    "    # Plot the model accuracy vs Epochs\n",
    "    ax[0].plot(epochs, accuracy, 'bo', label='Training accuracy')\n",
    "    # ax[0].plot(epochs, val_accuracy, 'b', label='Validation accuracy')\n",
    "    ax[0].set_title('Training & Validation Accuracy', fontsize=16)\n",
    "    ax[0].set_xlabel('Epochs', fontsize=16)\n",
    "    ax[0].set_ylabel('Accuracy', fontsize=16)\n",
    "    ax[0].legend()\n",
    "    \n",
    "    # Plot the loss vs Epochs\n",
    "    ax[1].plot(epochs, loss_values, 'bo', label='Training loss')\n",
    "    # ax[1].plot(epochs, val_loss_values, 'b', label='Validation loss')\n",
    "    ax[1].set_title('Training & Validation Loss', fontsize=16)\n",
    "    ax[1].set_xlabel('Epochs', fontsize=16)\n",
    "    ax[1].set_ylabel('Loss', fontsize=16)\n",
    "    ax[1].legend()\n",
    "    \n",
    "    plt.show()\n",
    "\n",
    "    # Evaluate the model accuracy and loss on the test dataset\n",
    "    test_loss, test_acc = model.evaluate(X_test, Y_test)\n",
    "    \n",
    "    # Print the loss and accuracy\n",
    "    st.write(f'test_loss: {test_loss}')\n",
    "    st.write(f'test_acc: {test_acc}')\n",
    "\n",
    "    return test_loss, test_acc"
   ]
  },
  {
   "cell_type": "markdown",
   "metadata": {},
   "source": [
    "Ingest data and map labels to categorical data format"
   ]
  },
  {
   "cell_type": "code",
   "execution_count": 28,
   "metadata": {},
   "outputs": [],
   "source": [
    "# Set file paths based on added MNIST Datasets\n",
    "input_path = '../MNIST_data/classic'\n",
    "training_images_filepath = join(input_path, 'train-images-idx3-ubyte/train-images-idx3-ubyte')\n",
    "training_labels_filepath = join(input_path, 'train-labels-idx1-ubyte/train-labels-idx1-ubyte')\n",
    "test_images_filepath = join(input_path, 't10k-images-idx3-ubyte/t10k-images-idx3-ubyte')\n",
    "test_labels_filepath = join(input_path, 't10k-labels-idx1-ubyte/t10k-labels-idx1-ubyte')\n",
    "\n",
    "# Load MINST dataset\n",
    "mnist_dataloader = MnistDataloader(training_images_filepath, training_labels_filepath, test_images_filepath, test_labels_filepath)\n",
    "images, labels = mnist_dataloader.read_images_labels(training_images_filepath, training_labels_filepath)"
   ]
  },
  {
   "cell_type": "code",
   "execution_count": 34,
   "metadata": {},
   "outputs": [
    {
     "name": "stdout",
     "output_type": "stream",
     "text": [
      "type(labels): <class 'array.array'>\n",
      "type(labels[0]): <class 'int'>\n",
      "labels[0]: 5\n",
      "len(labels): 60000\n"
     ]
    }
   ],
   "source": [
    "print(f'type(labels): {type(labels)}')\n",
    "print(f'type(labels[0]): {type(labels[0])}')\n",
    "print(f'labels[0]: {labels[0]}')\n",
    "print(f'len(labels): {len(labels)}')"
   ]
  },
  {
   "cell_type": "code",
   "execution_count": 35,
   "metadata": {},
   "outputs": [
    {
     "name": "stdout",
     "output_type": "stream",
     "text": [
      "initialised class\n",
      "loaded data\n",
      "mapped y data to categorical\n"
     ]
    }
   ],
   "source": [
    "# Set file paths based on added MNIST Datasets\n",
    "input_path = '../MNIST_data/classic'\n",
    "training_images_filepath = join(input_path, 'train-images-idx3-ubyte/train-images-idx3-ubyte')\n",
    "training_labels_filepath = join(input_path, 'train-labels-idx1-ubyte/train-labels-idx1-ubyte')\n",
    "test_images_filepath = join(input_path, 't10k-images-idx3-ubyte/t10k-images-idx3-ubyte')\n",
    "test_labels_filepath = join(input_path, 't10k-labels-idx1-ubyte/t10k-labels-idx1-ubyte')\n",
    "\n",
    "# Load MINST dataset\n",
    "mnist_dataloader = MnistDataloader(training_images_filepath, training_labels_filepath, test_images_filepath, test_labels_filepath)\n",
    "print('initialised class')\n",
    "(x_train, y_train), (x_test, y_test) = mnist_dataloader.load_data()\n",
    "print('loaded data')\n",
    "\n",
    "y_train = to_categorical(y_train)\n",
    "y_test = to_categorical(y_test)\n",
    "print('mapped y data to categorical')\n"
   ]
  },
  {
   "cell_type": "code",
   "execution_count": 36,
   "metadata": {},
   "outputs": [
    {
     "name": "stdout",
     "output_type": "stream",
     "text": [
      "size of training set: 60000\n",
      "size of test set: 10000\n"
     ]
    }
   ],
   "source": [
    "print(f'size of training set: {len(x_train)}')\n",
    "print(f'size of test set: {len(x_test)}')"
   ]
  },
  {
   "cell_type": "code",
   "execution_count": 5,
   "metadata": {},
   "outputs": [
    {
     "name": "stdout",
     "output_type": "stream",
     "text": [
      "Model: \"sequential\"\n",
      "_________________________________________________________________\n",
      " Layer (type)                Output Shape              Param #   \n",
      "=================================================================\n",
      " conv2d (Conv2D)             (None, 26, 26, 32)        320       \n",
      "                                                                 \n",
      " max_pooling2d (MaxPooling2  (None, 13, 13, 32)        0         \n",
      " D)                                                              \n",
      "                                                                 \n",
      " conv2d_1 (Conv2D)           (None, 11, 11, 64)        18496     \n",
      "                                                                 \n",
      " max_pooling2d_1 (MaxPoolin  (None, 5, 5, 64)          0         \n",
      " g2D)                                                            \n",
      "                                                                 \n",
      " conv2d_2 (Conv2D)           (None, 3, 3, 64)          36928     \n",
      "                                                                 \n",
      "=================================================================\n",
      "Total params: 55744 (217.75 KB)\n",
      "Trainable params: 55744 (217.75 KB)\n",
      "Non-trainable params: 0 (0.00 Byte)\n",
      "_________________________________________________________________\n",
      "model.summary(): None\n",
      "Model: \"sequential\"\n",
      "_________________________________________________________________\n",
      " Layer (type)                Output Shape              Param #   \n",
      "=================================================================\n",
      " conv2d (Conv2D)             (None, 26, 26, 32)        320       \n",
      "                                                                 \n",
      " max_pooling2d (MaxPooling2  (None, 13, 13, 32)        0         \n",
      " D)                                                              \n",
      "                                                                 \n",
      " conv2d_1 (Conv2D)           (None, 11, 11, 64)        18496     \n",
      "                                                                 \n",
      " max_pooling2d_1 (MaxPoolin  (None, 5, 5, 64)          0         \n",
      " g2D)                                                            \n",
      "                                                                 \n",
      " conv2d_2 (Conv2D)           (None, 3, 3, 64)          36928     \n",
      "                                                                 \n",
      " flatten (Flatten)           (None, 576)               0         \n",
      "                                                                 \n",
      " dense (Dense)               (None, 64)                36928     \n",
      "                                                                 \n",
      " dense_1 (Dense)             (None, 10)                650       \n",
      "                                                                 \n",
      "=================================================================\n",
      "Total params: 93322 (364.54 KB)\n",
      "Trainable params: 93322 (364.54 KB)\n",
      "Non-trainable params: 0 (0.00 Byte)\n",
      "_________________________________________________________________\n",
      "model.summary(): None\n",
      "compiled model\n",
      "Epoch 1/15\n",
      "118/118 [==============================] - 23s 187ms/step - loss: 1.7015 - accuracy: 0.7754\n",
      "Epoch 2/15\n",
      "118/118 [==============================] - 24s 202ms/step - loss: 0.1173 - accuracy: 0.9642\n",
      "Epoch 3/15\n",
      "118/118 [==============================] - 25s 213ms/step - loss: 0.0606 - accuracy: 0.9809\n",
      "Epoch 4/15\n",
      "118/118 [==============================] - 23s 197ms/step - loss: 0.0406 - accuracy: 0.9877\n",
      "Epoch 5/15\n",
      "118/118 [==============================] - 23s 197ms/step - loss: 0.0278 - accuracy: 0.9909\n",
      "Epoch 6/15\n",
      "118/118 [==============================] - 23s 197ms/step - loss: 0.0234 - accuracy: 0.9921\n",
      "Epoch 7/15\n",
      "118/118 [==============================] - 24s 207ms/step - loss: 0.0176 - accuracy: 0.9944\n",
      "Epoch 8/15\n",
      "118/118 [==============================] - 24s 205ms/step - loss: 0.0148 - accuracy: 0.9953\n",
      "Epoch 9/15\n",
      "118/118 [==============================] - 24s 201ms/step - loss: 0.0126 - accuracy: 0.9958\n",
      "Epoch 10/15\n",
      "118/118 [==============================] - 23s 197ms/step - loss: 0.0108 - accuracy: 0.9966\n",
      "Epoch 11/15\n",
      "118/118 [==============================] - 23s 198ms/step - loss: 0.0108 - accuracy: 0.9964\n",
      "Epoch 12/15\n",
      "118/118 [==============================] - 23s 196ms/step - loss: 0.0077 - accuracy: 0.9976\n",
      "Epoch 13/15\n",
      "118/118 [==============================] - 30s 257ms/step - loss: 0.0077 - accuracy: 0.9977\n",
      "Epoch 14/15\n",
      "118/118 [==============================] - 38s 326ms/step - loss: 0.0073 - accuracy: 0.9977\n",
      "Epoch 15/15\n",
      "118/118 [==============================] - 23s 192ms/step - loss: 0.0061 - accuracy: 0.9980\n",
      "train model\n"
     ]
    }
   ],
   "source": [
    "model = compile_model()\n",
    "print('compiled model')\n",
    "\n",
    "history = train_model(x_train,\n",
    "                y_train, \n",
    "                model)\n",
    "print('train model')"
   ]
  },
  {
   "cell_type": "code",
   "execution_count": 6,
   "metadata": {},
   "outputs": [
    {
     "data": {
      "image/png": "[encoded data removed]",
      "text/plain": [
       "<Figure size 1400x600 with 2 Axes>"
      ]
     },
     "metadata": {},
     "output_type": "display_data"
    },
    {
     "name": "stdout",
     "output_type": "stream",
     "text": [
      "313/313 [==============================] - 3s 9ms/step - loss: 0.0578 - accuracy: 0.9906\n"
     ]
    },
    {
     "name": "stderr",
     "output_type": "stream",
     "text": [
      "2023-09-01 14:47:06.280 \n",
      "  \u001b[33m\u001b[1mWarning:\u001b[0m to view this Streamlit app on a browser, run it with the following\n",
      "  command:\n",
      "\n",
      "    streamlit run C:\\Users\\ShaneShort\\AppData\\Roaming\\Python\\Python311\\site-packages\\ipykernel_launcher.py [ARGUMENTS]\n"
     ]
    },
    {
     "name": "stdout",
     "output_type": "stream",
     "text": [
      "analyse training\n"
     ]
    }
   ],
   "source": [
    "test_loss, test_acc = analyse_history(model, history, x_test, y_test)\n",
    "print('analyse training')"
   ]
  },
  {
   "cell_type": "markdown",
   "metadata": {},
   "source": [
    "Testing model against individual images"
   ]
  },
  {
   "cell_type": "code",
   "execution_count": 7,
   "metadata": {},
   "outputs": [
    {
     "name": "stdout",
     "output_type": "stream",
     "text": [
      "1/1 [==============================] - 0s 207ms/step\n",
      "Prediction: 8\n",
      "True Label: 8\n"
     ]
    },
    {
     "data": {
      "image/png": "[encoded data removed]",
      "text/plain": [
       "<Figure size 640x480 with 1 Axes>"
      ]
     },
     "metadata": {},
     "output_type": "display_data"
    }
   ],
   "source": [
    "import matplotlib.pyplot as plt\n",
    "import random\n",
    "\n",
    "def _test_single(X_test, Y_test, image_index):\n",
    "    image = X_test[image_index]  # Get the corresponding image data from X_test\n",
    "    label = Y_test[image_index]  # Get the corresponding label data from y_test\n",
    "\n",
    "    image = image.reshape(28, 28)  # Reshape the image array from (28, 28, 1) to (28, 28)\n",
    "\n",
    "    plt.imshow(image, cmap='gray')  # Display the image using grayscale color map\n",
    "    plt.title(f\"Label: {np.argmax(label)}\")  # Set the title of the plot with the true label\n",
    "    plt.axis('off')  # Remove the axis labels\n",
    "\n",
    "    return plt.gcf()  # Return the current figure for later plotting\n",
    "\n",
    "image_index = random.randint(0, len(x_test)-1)  # Generate a random index within the range of the test set\n",
    "label = y_test[image_index]  # Get the corresponding label data from y_test\n",
    "prediction = model.predict(np.expand_dims(x_test[image_index], axis=0))\n",
    "predicted_label = np.argmax(prediction)\n",
    "\n",
    "print(\"Prediction:\", predicted_label)\n",
    "print(\"True Label:\", np.argmax(label))\n",
    "\n",
    "figure = _test_single(x_test, y_test, image_index)\n",
    "plt.show()  # Show the plot\n"
   ]
  },
  {
   "cell_type": "code",
   "execution_count": 17,
   "metadata": {},
   "outputs": [],
   "source": [
    "import tkinter as tk\n",
    "from PIL import Image, ImageDraw\n",
    "import io"
   ]
  },
  {
   "cell_type": "code",
   "execution_count": 18,
   "metadata": {},
   "outputs": [],
   "source": [
    "\n",
    "window = tk.Tk()\n",
    "canvas = tk.Canvas(window, width=280, height=280, bg='white')\n",
    "canvas.pack()"
   ]
  },
  {
   "cell_type": "code",
   "execution_count": 19,
   "metadata": {},
   "outputs": [],
   "source": [
    "def on_mouse_drag(event):\n",
    "    x = event.x\n",
    "    y = event.y\n",
    "    radius = 5\n",
    "    canvas.create_oval(x - radius, y - radius, x + radius, y + radius, fill='black')\n",
    "\n",
    "canvas.bind('<B1-Motion>', on_mouse_drag)\n",
    "def clear_canvas():\n",
    "    canvas.delete('all')\n",
    "\n",
    "def run_model_prediction():\n",
    "    image = canvas.postscript(colormode='gray')\n",
    "    img = Image.open(io.BytesIO(image.encode('utf-8')))\n",
    "    img = img.resize((28, 28))\n",
    "    # Process the image and feed it into your model for prediction\n",
    "    prediction = model.predict(np.expand_dims(img, axis=0))\n",
    "    predicted_label = np.argmax(prediction)\n",
    "\n",
    "    print(\"Prediction:\", predicted_label)\n"
   ]
  },
  {
   "cell_type": "code",
   "execution_count": 20,
   "metadata": {},
   "outputs": [
    {
     "name": "stderr",
     "output_type": "stream",
     "text": [
      "Exception in Tkinter callback\n",
      "Traceback (most recent call last):\n",
      "  File \"c:\\Python311\\Lib\\tkinter\\__init__.py\", line 1948, in __call__\n",
      "    return self.func(*args)\n",
      "           ^^^^^^^^^^^^^^^^\n",
      "  File \"C:\\Users\\ShaneShort\\AppData\\Local\\Temp\\ipykernel_9444\\1246062621.py\", line 14, in run_model_prediction\n",
      "    img = img.resize((28, 28))\n",
      "          ^^^^^^^^^^^^^^^^^^^^\n",
      "  File \"c:\\Python311\\Lib\\site-packages\\PIL\\Image.py\", line 2157, in resize\n",
      "    self.load()\n",
      "  File \"c:\\Python311\\Lib\\site-packages\\PIL\\EpsImagePlugin.py\", line 387, in load\n",
      "    self.im = Ghostscript(self.tile, self.size, self.fp, scale, transparency)\n",
      "              ^^^^^^^^^^^^^^^^^^^^^^^^^^^^^^^^^^^^^^^^^^^^^^^^^^^^^^^^^^^^^^^\n",
      "  File \"c:\\Python311\\Lib\\site-packages\\PIL\\EpsImagePlugin.py\", line 138, in Ghostscript\n",
      "    raise OSError(msg)\n",
      "OSError: Unable to locate Ghostscript on paths\n"
     ]
    }
   ],
   "source": [
    "clear_button = tk.Button(window, text='Clear', command=clear_canvas)\n",
    "clear_button.pack()\n",
    "\n",
    "predict_button = tk.Button(window, text='Predict', command=run_model_prediction)\n",
    "predict_button.pack()\n",
    "\n",
    "window.mainloop()"
   ]
  }
 ],
 "metadata": {
  "kernelspec": {
   "display_name": "Python 3",
   "language": "python",
   "name": "python3"
  },
  "language_info": {
   "codemirror_mode": {
    "name": "ipython",
    "version": 3
   },
   "file_extension": ".py",
   "mimetype": "text/x-python",
   "name": "python",
   "nbconvert_exporter": "python",
   "pygments_lexer": "ipython3",
   "version": "3.11.0"
  },
  "orig_nbformat": 4
 },
 "nbformat": 4,
 "nbformat_minor": 2
}
