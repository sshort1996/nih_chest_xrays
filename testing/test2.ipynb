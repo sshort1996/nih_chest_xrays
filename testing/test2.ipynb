{
 "cells": [
  {
   "cell_type": "code",
   "execution_count": 1,
   "metadata": {},
   "outputs": [],
   "source": [
    "import pandas as pd\n",
    "import numpy as np\n",
    "from sklearn.model_selection import train_test_split\n",
    "from keras import layers\n",
    "from keras import models\n",
    "from keras.utils import to_categorical"
   ]
  },
  {
   "cell_type": "code",
   "execution_count": 5,
   "metadata": {},
   "outputs": [
    {
     "name": "stdout",
     "output_type": "stream",
     "text": [
      "fashion_mnist_train.shape: (60000, 785)\n",
      "fashion_mnist_test.shape: (10000, 785)\n"
     ]
    }
   ],
   "source": [
    "# Loading Fashion MNIST training and test dataset\n",
    "fashion_mnist_train = pd.read_csv('MNIST_data/fashion-mnist_train.csv')\n",
    "fashion_mnist_test = pd.read_csv('MNIST_data/fashion-mnist_test.csv')\n",
    "\n",
    "# Examining the shape of the data set\n",
    "print(f'fashion_mnist_train.shape: {fashion_mnist_train.shape}')\n",
    "print(f'fashion_mnist_test.shape: {fashion_mnist_test.shape}')"
   ]
  },
  {
   "cell_type": "code",
   "execution_count": 7,
   "metadata": {},
   "outputs": [
    {
     "name": "stdout",
     "output_type": "stream",
     "text": [
      "Model: \"sequential_1\"\n",
      "_________________________________________________________________\n",
      " Layer (type)                Output Shape              Param #   \n",
      "=================================================================\n",
      " conv2d_3 (Conv2D)           (None, 26, 26, 32)        320       \n",
      "                                                                 \n",
      " max_pooling2d_2 (MaxPoolin  (None, 13, 13, 32)        0         \n",
      " g2D)                                                            \n",
      "                                                                 \n",
      " conv2d_4 (Conv2D)           (None, 11, 11, 64)        18496     \n",
      "                                                                 \n",
      " max_pooling2d_3 (MaxPoolin  (None, 5, 5, 64)          0         \n",
      " g2D)                                                            \n",
      "                                                                 \n",
      " conv2d_5 (Conv2D)           (None, 3, 3, 64)          36928     \n",
      "                                                                 \n",
      "=================================================================\n",
      "Total params: 55744 (217.75 KB)\n",
      "Trainable params: 55744 (217.75 KB)\n",
      "Non-trainable params: 0 (0.00 Byte)\n",
      "_________________________________________________________________\n",
      "model.summary(): None\n"
     ]
    }
   ],
   "source": [
    "# Setting up the convolution neural network with convnet and maxpooling layer\n",
    "model = models.Sequential()\n",
    "model.add(layers.Conv2D(32, (3, 3), activation='relu', input_shape=(28, 28, 1)))\n",
    "model.add(layers.MaxPooling2D((2, 2)))\n",
    "model.add(layers.Conv2D(64, (3, 3), activation='relu'))\n",
    "model.add(layers.MaxPooling2D((2, 2)))\n",
    "model.add(layers.Conv2D(64, (3, 3), activation='relu'))\n",
    "\n",
    "# Model Summary\n",
    "print(f'model.summary(): {model.summary()}')"
   ]
  },
  {
   "cell_type": "code",
   "execution_count": 8,
   "metadata": {},
   "outputs": [
    {
     "name": "stdout",
     "output_type": "stream",
     "text": [
      "Model: \"sequential_1\"\n",
      "_________________________________________________________________\n",
      " Layer (type)                Output Shape              Param #   \n",
      "=================================================================\n",
      " conv2d_3 (Conv2D)           (None, 26, 26, 32)        320       \n",
      "                                                                 \n",
      " max_pooling2d_2 (MaxPoolin  (None, 13, 13, 32)        0         \n",
      " g2D)                                                            \n",
      "                                                                 \n",
      " conv2d_4 (Conv2D)           (None, 11, 11, 64)        18496     \n",
      "                                                                 \n",
      " max_pooling2d_3 (MaxPoolin  (None, 5, 5, 64)          0         \n",
      " g2D)                                                            \n",
      "                                                                 \n",
      " conv2d_5 (Conv2D)           (None, 3, 3, 64)          36928     \n",
      "                                                                 \n",
      " flatten (Flatten)           (None, 576)               0         \n",
      "                                                                 \n",
      " dense (Dense)               (None, 64)                36928     \n",
      "                                                                 \n",
      " dense_1 (Dense)             (None, 10)                650       \n",
      "                                                                 \n",
      "=================================================================\n",
      "Total params: 93322 (364.54 KB)\n",
      "Trainable params: 93322 (364.54 KB)\n",
      "Non-trainable params: 0 (0.00 Byte)\n",
      "_________________________________________________________________\n",
      "model.summary(): None\n"
     ]
    }
   ],
   "source": [
    "# Adding the fully connected layers to CNN\n",
    "model.add(layers.Flatten())\n",
    "model.add(layers.Dense(64, activation='relu'))\n",
    "model.add(layers.Dense(10, activation='softmax'))\n",
    "\n",
    "# Printing model summary\n",
    "print(f'model.summary(): {model.summary()}')"
   ]
  },
  {
   "cell_type": "code",
   "execution_count": 9,
   "metadata": {},
   "outputs": [],
   "source": [
    "# Configuring the network\n",
    "model.compile(optimizer='rmsprop',\n",
    "              loss='categorical_crossentropy',\n",
    "              metrics=['accuracy'])\n",
    "\n",
    "# Preparing the training data set for training\n",
    "X = np.array(fashion_mnist_train.iloc[:, 1:])\n",
    "y = to_categorical(np.array(fashion_mnist_train.iloc[:, 0]))"
   ]
  },
  {
   "cell_type": "code",
   "execution_count": 10,
   "metadata": {},
   "outputs": [
    {
     "name": "stdout",
     "output_type": "stream",
     "text": [
      "X_train.shape: (42000, 28, 28, 1)\n",
      "X_val.shape: (18000, 28, 28, 1)\n",
      "X_test.shape: (10000, 28, 28, 1)\n"
     ]
    }
   ],
   "source": [
    "# Create training and validation data split\n",
    "X_train, X_val, y_train, y_val = train_test_split(X, y, test_size=0.3, random_state=42)\n",
    "\n",
    "# Creating the test data set for testing\n",
    "X_test = np.array(fashion_mnist_test.iloc[:, 1:])\n",
    "y_test = to_categorical(np.array(fashion_mnist_test.iloc[:, 0]))\n",
    "\n",
    "# Reshaping the dataset in (28, 28, 1) in order to feed into neural network\n",
    "# Convnet takes the input tensors of shape (image_height, image_width, image_channels)\n",
    "X_train = X_train.reshape(X_train.shape[0], 28, 28, 1)\n",
    "X_test = X_test.reshape(X_test.shape[0], 28, 28, 1)\n",
    "X_val = X_val.reshape(X_val.shape[0], 28, 28, 1)\n",
    "\n",
    "# Changing the dataset to float\n",
    "X_train = X_train.astype('float32')/255\n",
    "X_val = X_val.astype('float32')/255\n",
    "X_test = X_test.astype('float32')/255\n",
    "\n",
    "# Examinging the shape of the dataset\n",
    "print(f'X_train.shape: {X_train.shape}')\n",
    "print(f'X_val.shape: {X_val.shape}')\n",
    "print(f'X_test.shape: {X_test.shape}')"
   ]
  },
  {
   "cell_type": "code",
   "execution_count": 11,
   "metadata": {},
   "outputs": [
    {
     "name": "stdout",
     "output_type": "stream",
     "text": [
      "Epoch 1/15\n",
      "83/83 [==============================] - 13s 144ms/step - loss: 1.0881 - accuracy: 0.6066 - val_loss: 2.2112 - val_accuracy: 0.3943\n",
      "Epoch 2/15\n",
      "83/83 [==============================] - 11s 135ms/step - loss: 0.6612 - accuracy: 0.7564 - val_loss: 0.9862 - val_accuracy: 0.5964\n",
      "Epoch 3/15\n",
      "83/83 [==============================] - 11s 130ms/step - loss: 0.5349 - accuracy: 0.7984 - val_loss: 0.7024 - val_accuracy: 0.7421\n",
      "Epoch 4/15\n",
      "83/83 [==============================] - 10s 126ms/step - loss: 0.4727 - accuracy: 0.8235 - val_loss: 0.7210 - val_accuracy: 0.7612\n",
      "Epoch 5/15\n",
      "83/83 [==============================] - 11s 127ms/step - loss: 0.4275 - accuracy: 0.8420 - val_loss: 0.4717 - val_accuracy: 0.8187\n",
      "Epoch 6/15\n",
      "83/83 [==============================] - 11s 129ms/step - loss: 0.3934 - accuracy: 0.8555 - val_loss: 0.8202 - val_accuracy: 0.6732\n",
      "Epoch 7/15\n",
      "83/83 [==============================] - 11s 128ms/step - loss: 0.3698 - accuracy: 0.8639 - val_loss: 0.5825 - val_accuracy: 0.7754\n",
      "Epoch 8/15\n",
      "83/83 [==============================] - 11s 132ms/step - loss: 0.3472 - accuracy: 0.8733 - val_loss: 0.4027 - val_accuracy: 0.8450\n",
      "Epoch 9/15\n",
      "83/83 [==============================] - 11s 138ms/step - loss: 0.3258 - accuracy: 0.8810 - val_loss: 0.4200 - val_accuracy: 0.8403\n",
      "Epoch 10/15\n",
      "83/83 [==============================] - 12s 150ms/step - loss: 0.3091 - accuracy: 0.8869 - val_loss: 0.3594 - val_accuracy: 0.8676\n",
      "Epoch 11/15\n",
      "83/83 [==============================] - 12s 146ms/step - loss: 0.2973 - accuracy: 0.8912 - val_loss: 0.4201 - val_accuracy: 0.8502\n",
      "Epoch 12/15\n",
      "83/83 [==============================] - 12s 150ms/step - loss: 0.2840 - accuracy: 0.8963 - val_loss: 0.3846 - val_accuracy: 0.8627\n",
      "Epoch 13/15\n",
      "83/83 [==============================] - 13s 154ms/step - loss: 0.2720 - accuracy: 0.9003 - val_loss: 0.3728 - val_accuracy: 0.8586\n",
      "Epoch 14/15\n",
      "83/83 [==============================] - 13s 154ms/step - loss: 0.2621 - accuracy: 0.9036 - val_loss: 0.4623 - val_accuracy: 0.8424\n",
      "Epoch 15/15\n",
      "83/83 [==============================] - 13s 155ms/step - loss: 0.2551 - accuracy: 0.9056 - val_loss: 0.3549 - val_accuracy: 0.8784\n"
     ]
    }
   ],
   "source": [
    "# Fit the CNN model\n",
    "history = model.fit(X_train, y_train,\n",
    "                    validation_data=(X_val, y_val),\n",
    "                    epochs=15,\n",
    "                    batch_size=512)"
   ]
  },
  {
   "cell_type": "code",
   "execution_count": 12,
   "metadata": {},
   "outputs": [
    {
     "name": "stdout",
     "output_type": "stream",
     "text": [
      "313/313 [==============================] - 2s 5ms/step - loss: 0.3243 - accuracy: 0.8838\n",
      "test_loss: 0.3243311643600464\n",
      "test_acc: 0.8838000297546387\n"
     ]
    },
    {
     "data": {
      "image/png": "[encoded data removed]",
      "text/plain": [
       "<Figure size 1400x600 with 2 Axes>"
      ]
     },
     "metadata": {},
     "output_type": "display_data"
    }
   ],
   "source": [
    "\n",
    "import matplotlib.pyplot as plt\n",
    "  \n",
    "history_dict = history.history\n",
    "loss_values = history_dict['loss']\n",
    "val_loss_values = history_dict['val_loss']\n",
    "accuracy = history_dict['accuracy']\n",
    "val_accuracy = history_dict['val_accuracy']\n",
    "  \n",
    "epochs = range(1, len(loss_values) + 1)\n",
    "fig, ax = plt.subplots(1, 2, figsize=(14, 6))\n",
    "#\n",
    "# Plot the model accuracy vs Epochs\n",
    "#\n",
    "ax[0].plot(epochs, accuracy, 'bo', label='Training accuracy')\n",
    "ax[0].plot(epochs, val_accuracy, 'b', label='Validation accuracy')\n",
    "ax[0].set_title('Training & Validation Accuracy', fontsize=16)\n",
    "ax[0].set_xlabel('Epochs', fontsize=16)\n",
    "ax[0].set_ylabel('Accuracy', fontsize=16)\n",
    "ax[0].legend()\n",
    "#\n",
    "# Plot the loss vs Epochs\n",
    "#\n",
    "ax[1].plot(epochs, loss_values, 'bo', label='Training loss')\n",
    "ax[1].plot(epochs, val_loss_values, 'b', label='Validation loss')\n",
    "ax[1].set_title('Training & Validation Loss', fontsize=16)\n",
    "ax[1].set_xlabel('Epochs', fontsize=16)\n",
    "ax[1].set_ylabel('Loss', fontsize=16)\n",
    "ax[1].legend()\n",
    "\n",
    "# Evaluate the model accuracy and loss on the test dataset\n",
    "#\n",
    "test_loss, test_acc = model.evaluate(X_test, y_test)\n",
    "#\n",
    "# Print the loss and accuracy\n",
    "#\n",
    "print(f'test_loss: {test_loss}')\n",
    "print(f'test_acc: {test_acc}')"
   ]
  },
  {
   "cell_type": "code",
   "execution_count": 13,
   "metadata": {},
   "outputs": [
    {
     "name": "stdout",
     "output_type": "stream",
     "text": [
      "loss_values: [1.0881329774856567, 0.6612178683280945, 0.5348945260047913, 0.47267502546310425, 0.42746618390083313, 0.3934429883956909, 0.36984938383102417, 0.34718430042266846, 0.3257853388786316, 0.30908676981925964, 0.2973134219646454, 0.2839861512184143, 0.27204060554504395, 0.2620902955532074, 0.2551281750202179]\n",
      "val_loss_values: [2.2112138271331787, 0.9861999750137329, 0.702415406703949, 0.7210034728050232, 0.47171035408973694, 0.8202230334281921, 0.5824812650680542, 0.4027467966079712, 0.4200024902820587, 0.3594117760658264, 0.4201009273529053, 0.3845849633216858, 0.37283337116241455, 0.4623073935508728, 0.3549429476261139]\n",
      "accuracy: [0.6066190600395203, 0.756428599357605, 0.798380970954895, 0.8235238194465637, 0.8420237898826599, 0.8554762005805969, 0.8638809323310852, 0.8732619285583496, 0.8810238242149353, 0.8868571519851685, 0.8912380933761597, 0.8962857127189636, 0.9003333449363708, 0.9035714268684387, 0.9055952429771423]\n",
      "val_accuracy: [0.39427778124809265, 0.5963888764381409, 0.7420555353164673, 0.7611666917800903, 0.8187222480773926, 0.6732222437858582, 0.7753888964653015, 0.8450000286102295, 0.8403333425521851, 0.8676111102104187, 0.8501666784286499, 0.862666666507721, 0.8585555553436279, 0.8424444198608398, 0.8784444332122803]\n"
     ]
    }
   ],
   "source": [
    "print(f'loss_values: {loss_values}')\n",
    "print(f'val_loss_values: {val_loss_values}')\n",
    "print(f'accuracy: {accuracy}')\n",
    "print(f'val_accuracy: {val_accuracy}')"
   ]
  },
  {
   "cell_type": "markdown",
   "metadata": {},
   "source": [
    "## Model testing"
   ]
  },
  {
   "cell_type": "code",
   "execution_count": 26,
   "metadata": {},
   "outputs": [],
   "source": [
    "import matplotlib.pyplot as plt\n",
    "import random"
   ]
  },
  {
   "cell_type": "code",
   "execution_count": 53,
   "metadata": {},
   "outputs": [
    {
     "name": "stdout",
     "output_type": "stream",
     "text": [
      "3648\n"
     ]
    }
   ],
   "source": [
    "image_index = random.randint(0, len(X_test)-1)  # Generate a random index within the range of the test set\n",
    "image = X_test[image_index]  # Get the corresponding image data from X_test\n",
    "label = y_test[image_index]  # Get the corresponding label data from y_test\n",
    "\n",
    "print(image_index)"
   ]
  },
  {
   "cell_type": "code",
   "execution_count": 54,
   "metadata": {},
   "outputs": [],
   "source": [
    "    image = image.reshape(28, 28)  # Reshape the image array from (28, 28, 1) to (28, 28)\n"
   ]
  },
  {
   "cell_type": "code",
   "execution_count": 55,
   "metadata": {},
   "outputs": [
    {
     "data": {
      "image/png": "[encoded data removed]",
      "text/plain": [
       "<Figure size 640x480 with 1 Axes>"
      ]
     },
     "metadata": {},
     "output_type": "display_data"
    }
   ],
   "source": [
    "plt.imshow(image, cmap='gray')  # Display the image using grayscale color map\n",
    "plt.title(f\"Label: {np.argmax(label)}\")  # Set the title of the plot with the true label\n",
    "plt.axis('off')  # Remove the axis labels\n",
    "plt.show()  # Show the plot\n"
   ]
  },
  {
   "cell_type": "markdown",
   "metadata": {},
   "source": [
    "These labels are mapped to the following items of clothing\n",
    "\n",
    " - 0 T-shirt/top\n",
    " - 1 Trouser\n",
    " - 2 Pullover\n",
    " - 3 Dress\n",
    " - 4 Coat\n",
    " - 5 Sandal\n",
    " - 6 Shirt\n",
    " - 7 Sneaker\n",
    " - 8 Bag\n",
    " - 9 Ankle boot"
   ]
  },
  {
   "cell_type": "code",
   "execution_count": 56,
   "metadata": {},
   "outputs": [
    {
     "name": "stdout",
     "output_type": "stream",
     "text": [
      "1/1 [==============================] - 0s 55ms/step\n"
     ]
    }
   ],
   "source": [
    "prediction = model.predict(np.expand_dims(X_test[image_index], axis=0))\n",
    "predicted_label = np.argmax(prediction)  # Get the predicted label from the prediction\n"
   ]
  },
  {
   "cell_type": "code",
   "execution_count": 57,
   "metadata": {},
   "outputs": [
    {
     "name": "stdout",
     "output_type": "stream",
     "text": [
      "Prediction: 9\n",
      "True Label: 9\n"
     ]
    }
   ],
   "source": [
    "print(\"Prediction:\", predicted_label)\n",
    "print(\"True Label:\", np.argmax(label))\n"
   ]
  },
  {
   "cell_type": "code",
   "execution_count": 63,
   "metadata": {},
   "outputs": [
    {
     "name": "stdout",
     "output_type": "stream",
     "text": [
      "1/1 [==============================] - 0s 54ms/step\n",
      "Prediction: 9\n",
      "True Label: 9\n"
     ]
    },
    {
     "data": {
      "image/png": "[encoded data removed]",
      "text/plain": [
       "<Figure size 640x480 with 1 Axes>"
      ]
     },
     "metadata": {},
     "output_type": "display_data"
    }
   ],
   "source": [
    "import matplotlib.pyplot as plt\n",
    "import random\n",
    "\n",
    "def _test_single(X_test, Y_test):\n",
    "    image_index = random.randint(0, len(X_test)-1)  # Generate a random index within the range of the test set\n",
    "    image = X_test[image_index]  # Get the corresponding image data from X_test\n",
    "    label = Y_test[image_index]  # Get the corresponding label data from y_test\n",
    "\n",
    "    image = image.reshape(28, 28)  # Reshape the image array from (28, 28, 1) to (28, 28)\n",
    "\n",
    "    plt.imshow(image, cmap='gray')  # Display the image using grayscale color map\n",
    "    plt.title(f\"Label: {np.argmax(label)}\")  # Set the title of the plot with the true label\n",
    "    plt.axis('off')  # Remove the axis labels\n",
    "\n",
    "    return plt.gcf()  # Return the current figure for later plotting\n",
    "\n",
    "prediction = model.predict(np.expand_dims(X_test[image_index], axis=0))\n",
    "predicted_label = np.argmax(prediction)\n",
    "\n",
    "print(\"Prediction:\", predicted_label)\n",
    "print(\"True Label:\", np.argmax(label))\n",
    "\n",
    "figure = _test_single(X_test, y_test)\n",
    "plt.show()  # Show the plot\n"
   ]
  },
  {
   "cell_type": "markdown",
   "metadata": {},
   "source": [
    "## Session manager"
   ]
  },
  {
   "cell_type": "code",
   "execution_count": null,
   "metadata": {},
   "outputs": [],
   "source": [
    "\n",
    "session_objects = {\n",
    "    'key': 'value'\n",
    "}\n",
    "\n",
    "def session_manager(session_objects):\n",
    "    for key, value in session_objects.items():\n",
    "        st.session_state[key] = value\n",
    "        print((key, value))"
   ]
  }
 ],
 "metadata": {
  "kernelspec": {
   "display_name": "Python 3",
   "language": "python",
   "name": "python3"
  },
  "language_info": {
   "codemirror_mode": {
    "name": "ipython",
    "version": 3
   },
   "file_extension": ".py",
   "mimetype": "text/x-python",
   "name": "python",
   "nbconvert_exporter": "python",
   "pygments_lexer": "ipython3",
   "version": "3.11.0"
  },
  "orig_nbformat": 4
 },
 "nbformat": 4,
 "nbformat_minor": 2
}
